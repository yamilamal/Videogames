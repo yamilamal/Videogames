{
 "cells": [
  {
   "cell_type": "code",
   "execution_count": 29,
   "id": "fcd85513",
   "metadata": {},
   "outputs": [],
   "source": [
    "import pandas as pd"
   ]
  },
  {
   "cell_type": "code",
   "execution_count": 30,
   "id": "6c7b1320",
   "metadata": {},
   "outputs": [],
   "source": [
    "import matplotlib.pyplot as plt"
   ]
  },
  {
   "cell_type": "code",
   "execution_count": 31,
   "id": "ebfa299e",
   "metadata": {},
   "outputs": [],
   "source": [
    "import datetime"
   ]
  },
  {
   "cell_type": "code",
   "execution_count": 32,
   "id": "94a2815c",
   "metadata": {},
   "outputs": [
    {
     "name": "stdout",
     "output_type": "stream",
     "text": [
      "Requirement already satisfied: chardet in c:\\users\\yamal\\onedrive\\escritorio\\proyectos en github\\videogames\\env\\lib\\site-packages (5.2.0)\n"
     ]
    },
    {
     "name": "stderr",
     "output_type": "stream",
     "text": [
      "\n",
      "[notice] A new release of pip is available: 25.1.1 -> 25.2\n",
      "[notice] To update, run: python.exe -m pip install --upgrade pip\n"
     ]
    }
   ],
   "source": [
    "!pip install chardet"
   ]
  },
  {
   "cell_type": "code",
   "execution_count": 33,
   "id": "8f4eda51",
   "metadata": {},
   "outputs": [],
   "source": [
    "import chardet"
   ]
  },
  {
   "cell_type": "code",
   "execution_count": 34,
   "id": "799587c6",
   "metadata": {},
   "outputs": [],
   "source": [
    "juegos = pd.read_csv(\"juegos.csv\", encoding=\"latin1\")\n",
    "\n"
   ]
  },
  {
   "cell_type": "code",
   "execution_count": 35,
   "id": "92afae31",
   "metadata": {},
   "outputs": [
    {
     "name": "stdout",
     "output_type": "stream",
     "text": [
      "Codificación detectada: ISO-8859-1\n"
     ]
    }
   ],
   "source": [
    "ruta=\"jugadores.csv\"\n",
    "\n",
    "with open(ruta, \"rb\") as f:\n",
    "    resultado = chardet.detect(f.read(100000))\n",
    "\n",
    "print(\"Codificación detectada:\", resultado['encoding'])"
   ]
  },
  {
   "cell_type": "code",
   "execution_count": 36,
   "id": "9d4ef81d",
   "metadata": {},
   "outputs": [],
   "source": [
    "jugadores = pd.read_csv(\"jugadores.csv\", encoding=\"ISO-8859-1\")\n",
    "sesiones = pd.read_csv(\"sesiones.csv\", encoding=\"latin1\")\n",
    "puntuaciones = pd.read_csv(\"puntuaciones.csv\", encoding=\"latin1\")\n",
    "compras = pd.read_csv(\"compras_en_plataforma.csv\", encoding=\"latin1\")"
   ]
  },
  {
   "cell_type": "markdown",
   "id": "53a63b84",
   "metadata": {},
   "source": [
    "# JUEGOS"
   ]
  },
  {
   "cell_type": "code",
   "execution_count": 37,
   "id": "bb42548d",
   "metadata": {},
   "outputs": [
    {
     "data": {
      "text/html": [
       "<div>\n",
       "<style scoped>\n",
       "    .dataframe tbody tr th:only-of-type {\n",
       "        vertical-align: middle;\n",
       "    }\n",
       "\n",
       "    .dataframe tbody tr th {\n",
       "        vertical-align: top;\n",
       "    }\n",
       "\n",
       "    .dataframe thead th {\n",
       "        text-align: right;\n",
       "    }\n",
       "</style>\n",
       "<table border=\"1\" class=\"dataframe\">\n",
       "  <thead>\n",
       "    <tr style=\"text-align: right;\">\n",
       "      <th></th>\n",
       "      <th>id_juego</th>\n",
       "      <th>nombre</th>\n",
       "      <th>categoria</th>\n",
       "      <th>fecha_lanzamiento</th>\n",
       "      <th>puntaje_global</th>\n",
       "    </tr>\n",
       "  </thead>\n",
       "  <tbody>\n",
       "    <tr>\n",
       "      <th>0</th>\n",
       "      <td>1</td>\n",
       "      <td>Assassin's Creed IV: Black Flag 1</td>\n",
       "      <td>AcciÃ³n/Aventur</td>\n",
       "      <td>2013</td>\n",
       "      <td>8.191430</td>\n",
       "    </tr>\n",
       "    <tr>\n",
       "      <th>1</th>\n",
       "      <td>2</td>\n",
       "      <td>Far Cry 3 1</td>\n",
       "      <td>AcciÃ³n/Aventur</td>\n",
       "      <td>2012</td>\n",
       "      <td>83.068108</td>\n",
       "    </tr>\n",
       "    <tr>\n",
       "      <th>2</th>\n",
       "      <td>3</td>\n",
       "      <td>For Honor 1</td>\n",
       "      <td>Lucha</td>\n",
       "      <td>2017</td>\n",
       "      <td>19.514254</td>\n",
       "    </tr>\n",
       "    <tr>\n",
       "      <th>3</th>\n",
       "      <td>4</td>\n",
       "      <td>Rayman Origins 1</td>\n",
       "      <td>Plataformas</td>\n",
       "      <td>2011</td>\n",
       "      <td>73.511024</td>\n",
       "    </tr>\n",
       "    <tr>\n",
       "      <th>4</th>\n",
       "      <td>5</td>\n",
       "      <td>Watch Dogs 1</td>\n",
       "      <td>AcciÃ³n/Aventur</td>\n",
       "      <td>2014</td>\n",
       "      <td>60.060021</td>\n",
       "    </tr>\n",
       "  </tbody>\n",
       "</table>\n",
       "</div>"
      ],
      "text/plain": [
       "   id_juego                             nombre        categoria  \\\n",
       "0         1  Assassin's Creed IV: Black Flag 1  AcciÃ³n/Aventur   \n",
       "1         2                        Far Cry 3 1  AcciÃ³n/Aventur   \n",
       "2         3                        For Honor 1            Lucha   \n",
       "3         4                   Rayman Origins 1      Plataformas   \n",
       "4         5                       Watch Dogs 1  AcciÃ³n/Aventur   \n",
       "\n",
       "  fecha_lanzamiento  puntaje_global  \n",
       "0              2013        8.191430  \n",
       "1              2012       83.068108  \n",
       "2              2017       19.514254  \n",
       "3              2011       73.511024  \n",
       "4              2014       60.060021  "
      ]
     },
     "execution_count": 37,
     "metadata": {},
     "output_type": "execute_result"
    }
   ],
   "source": [
    "juegos.head()\n"
   ]
  },
  {
   "cell_type": "code",
   "execution_count": 38,
   "id": "3fc809b8",
   "metadata": {},
   "outputs": [
    {
     "data": {
      "text/plain": [
       "(350, 5)"
      ]
     },
     "execution_count": 38,
     "metadata": {},
     "output_type": "execute_result"
    }
   ],
   "source": [
    "juegos.shape"
   ]
  },
  {
   "cell_type": "code",
   "execution_count": 39,
   "id": "4c0dd953",
   "metadata": {},
   "outputs": [
    {
     "data": {
      "text/plain": [
       "id_juego               int64\n",
       "nombre                object\n",
       "categoria             object\n",
       "fecha_lanzamiento     object\n",
       "puntaje_global       float64\n",
       "dtype: object"
      ]
     },
     "execution_count": 39,
     "metadata": {},
     "output_type": "execute_result"
    }
   ],
   "source": [
    "juegos.dtypes"
   ]
  },
  {
   "cell_type": "markdown",
   "id": "d130e27f",
   "metadata": {},
   "source": [
    "### Fecha de lanzamiento"
   ]
  },
  {
   "cell_type": "code",
   "execution_count": 40,
   "id": "3b33b323",
   "metadata": {},
   "outputs": [
    {
     "data": {
      "text/plain": [
       "array(['2013', '2012', '2017', '2011', '2014', '2019', '2020', '2003',\n",
       "       'En desarrollo', 'Pendiente', 'No publicado', '2023', '2021',\n",
       "       '2025', 'No disponible', '2024', '2022',\n",
       "       '2013 (original), re-lanzado 2021', '2018', '2001', nan, '2016',\n",
       "       '2015', '20.13', '1989', '2010', '2009', '2008', '1999'],\n",
       "      dtype=object)"
      ]
     },
     "execution_count": 40,
     "metadata": {},
     "output_type": "execute_result"
    }
   ],
   "source": [
    "juegos[\"fecha_lanzamiento\"].unique()"
   ]
  },
  {
   "cell_type": "code",
   "execution_count": 41,
   "id": "8884cf9b",
   "metadata": {},
   "outputs": [],
   "source": [
    "juegos.loc[juegos[\"fecha_lanzamiento\"]==\"20.13\", \"fecha_lanzamiento\"]=2013"
   ]
  },
  {
   "cell_type": "code",
   "execution_count": 42,
   "id": "4d692c5c",
   "metadata": {},
   "outputs": [
    {
     "data": {
      "text/html": [
       "<div>\n",
       "<style scoped>\n",
       "    .dataframe tbody tr th:only-of-type {\n",
       "        vertical-align: middle;\n",
       "    }\n",
       "\n",
       "    .dataframe tbody tr th {\n",
       "        vertical-align: top;\n",
       "    }\n",
       "\n",
       "    .dataframe thead th {\n",
       "        text-align: right;\n",
       "    }\n",
       "</style>\n",
       "<table border=\"1\" class=\"dataframe\">\n",
       "  <thead>\n",
       "    <tr style=\"text-align: right;\">\n",
       "      <th></th>\n",
       "      <th>id_juego</th>\n",
       "      <th>nombre</th>\n",
       "      <th>categoria</th>\n",
       "      <th>fecha_lanzamiento</th>\n",
       "      <th>puntaje_global</th>\n",
       "    </tr>\n",
       "  </thead>\n",
       "  <tbody>\n",
       "    <tr>\n",
       "      <th>0</th>\n",
       "      <td>1</td>\n",
       "      <td>Assassin's Creed IV: Black Flag 1</td>\n",
       "      <td>AcciÃ³n/Aventur</td>\n",
       "      <td>2013</td>\n",
       "      <td>8.191430</td>\n",
       "    </tr>\n",
       "    <tr>\n",
       "      <th>40</th>\n",
       "      <td>41</td>\n",
       "      <td>The Settlers : New Allies para Ordenador 1</td>\n",
       "      <td>Estrategia</td>\n",
       "      <td>2013</td>\n",
       "      <td>9.103704</td>\n",
       "    </tr>\n",
       "    <tr>\n",
       "      <th>92</th>\n",
       "      <td>93</td>\n",
       "      <td>South Park: Phone Destroyer  para Android 1</td>\n",
       "      <td>Estrategia/Rol</td>\n",
       "      <td>2013</td>\n",
       "      <td>60.054845</td>\n",
       "    </tr>\n",
       "    <tr>\n",
       "      <th>150</th>\n",
       "      <td>151</td>\n",
       "      <td>Los Pitufos eShop 1</td>\n",
       "      <td>Aventura</td>\n",
       "      <td>2013</td>\n",
       "      <td>59.661845</td>\n",
       "    </tr>\n",
       "    <tr>\n",
       "      <th>151</th>\n",
       "      <td>152</td>\n",
       "      <td>Anno Online 1</td>\n",
       "      <td>Estrategia/GestiÃ³</td>\n",
       "      <td>2013</td>\n",
       "      <td>15.198456</td>\n",
       "    </tr>\n",
       "  </tbody>\n",
       "</table>\n",
       "</div>"
      ],
      "text/plain": [
       "     id_juego                                       nombre  \\\n",
       "0           1            Assassin's Creed IV: Black Flag 1   \n",
       "40         41   The Settlers : New Allies para Ordenador 1   \n",
       "92         93  South Park: Phone Destroyer  para Android 1   \n",
       "150       151                          Los Pitufos eShop 1   \n",
       "151       152                                Anno Online 1   \n",
       "\n",
       "              categoria fecha_lanzamiento  puntaje_global  \n",
       "0       AcciÃ³n/Aventur              2013        8.191430  \n",
       "40           Estrategia              2013        9.103704  \n",
       "92       Estrategia/Rol              2013       60.054845  \n",
       "150            Aventura              2013       59.661845  \n",
       "151  Estrategia/GestiÃ³              2013       15.198456  "
      ]
     },
     "execution_count": 42,
     "metadata": {},
     "output_type": "execute_result"
    }
   ],
   "source": [
    "juegos.loc[juegos[\"fecha_lanzamiento\"]==\"2013\"].head()"
   ]
  },
  {
   "cell_type": "code",
   "execution_count": 43,
   "id": "3e42042b",
   "metadata": {},
   "outputs": [
    {
     "data": {
      "text/html": [
       "<div>\n",
       "<style scoped>\n",
       "    .dataframe tbody tr th:only-of-type {\n",
       "        vertical-align: middle;\n",
       "    }\n",
       "\n",
       "    .dataframe tbody tr th {\n",
       "        vertical-align: top;\n",
       "    }\n",
       "\n",
       "    .dataframe thead th {\n",
       "        text-align: right;\n",
       "    }\n",
       "</style>\n",
       "<table border=\"1\" class=\"dataframe\">\n",
       "  <thead>\n",
       "    <tr style=\"text-align: right;\">\n",
       "      <th></th>\n",
       "      <th>id_juego</th>\n",
       "      <th>nombre</th>\n",
       "      <th>categoria</th>\n",
       "      <th>fecha_lanzamiento</th>\n",
       "      <th>puntaje_global</th>\n",
       "    </tr>\n",
       "  </thead>\n",
       "  <tbody>\n",
       "    <tr>\n",
       "      <th>55</th>\n",
       "      <td>56</td>\n",
       "      <td>TRIVIAL PURSUIT Live! 2 para PlayStation 4 1</td>\n",
       "      <td>Preguntas y respuestas</td>\n",
       "      <td>2013 (original), re-lanzado 2021</td>\n",
       "      <td>21.763576</td>\n",
       "    </tr>\n",
       "  </tbody>\n",
       "</table>\n",
       "</div>"
      ],
      "text/plain": [
       "    id_juego                                        nombre  \\\n",
       "55        56  TRIVIAL PURSUIT Live! 2 para PlayStation 4 1   \n",
       "\n",
       "                 categoria                 fecha_lanzamiento  puntaje_global  \n",
       "55  Preguntas y respuestas  2013 (original), re-lanzado 2021       21.763576  "
      ]
     },
     "execution_count": 43,
     "metadata": {},
     "output_type": "execute_result"
    }
   ],
   "source": [
    "juegos[juegos[\"fecha_lanzamiento\"]==\"2013 (original), re-lanzado 2021\"]"
   ]
  },
  {
   "cell_type": "code",
   "execution_count": 44,
   "id": "98042a10",
   "metadata": {},
   "outputs": [],
   "source": [
    "reemplazos_nombre={\n",
    "    \"Diseï¿½ï¿½adora\": \"disenadora\"\n",
    "}"
   ]
  },
  {
   "cell_type": "code",
   "execution_count": 45,
   "id": "29b569d2",
   "metadata": {},
   "outputs": [],
   "source": [
    "for mal, bien in reemplazos_nombre.items():\n",
    "    juegos['nombre'] = juegos['nombre'].str.replace(mal, bien, regex=False)\n"
   ]
  },
  {
   "cell_type": "markdown",
   "id": "7e2f6a0d",
   "metadata": {},
   "source": [
    "### Categoria"
   ]
  },
  {
   "cell_type": "code",
   "execution_count": 46,
   "id": "55f5ff03",
   "metadata": {},
   "outputs": [
    {
     "data": {
      "text/plain": [
       "array(['AcciÃ³n/Aventur', 'Lucha', 'Plataformas', 'Rol/Disparos', 'Rol',\n",
       "       'Disparos tÃ¡ctico', 'Plataforma de servicios', 'Rol/AcciÃ³',\n",
       "       'Sigilo/AcciÃ³', 'Estrategia', 'Estrategia/Rol', 'AcciÃ³',\n",
       "       'Disparos', 'Lucha/Plataformas', 'Musical/SimulaciÃ³',\n",
       "       'AcciÃ³n/Plataforma', 'Musical/Ritmo', 'Tablero/Estrategia',\n",
       "       'Deportes/Fiesta', 'Estrategia/Cartas', 'Plataformas/Roguelite',\n",
       "       'Sandbox/Multijugador', 'Disparos/Estrategia',\n",
       "       'Plataformas/Metroidvania', 'Carreras', 'Aventura', 'Educativo',\n",
       "       'Preguntas y respuestas', 'SimulaciÃ³', 'Cartas',\n",
       "       'Carreras/Plataformas', 'Juegos de mesa', 'Misterio/Puzles',\n",
       "       'Pesca', 'SimulaciÃ³n/Aventur', 'Realidad Virtual',\n",
       "       'Deportes extremos', 'Realidad Virtual/Vuelo', 'Fiesta/Minijuegos',\n",
       "       'Musical/Canto', 'Plataformas/Aventura', 'AcciÃ³n/Arcad',\n",
       "       'AcciÃ³n/Ro', 'Plataformas/AcciÃ³', 'Aventura/Plataformas',\n",
       "       'Survival horror', 'Estrategia/AcciÃ³', 'Estrategia/GestiÃ³',\n",
       "       'Interactivo', 'Puzles', 'Fitness/Ejercicio', 'Casual',\n",
       "       'Aventura/Puzles', 'Rol/Aventura', 'Disparos/Aventura',\n",
       "       'Puzles/Rol', 'Arcade', 'Deportes', 'Plataformas/Puzles',\n",
       "       'SimulaciÃ³n/GestiÃ', 'AcciÃ³n/Disparo', 'SimulaciÃ³n/Mascota',\n",
       "       'Rol/Multijugador', 'Supervivencia', 'Puzles/Ritmo',\n",
       "       'AcciÃ³n/Estrategi', 'Carreras/AcciÃ³', 'Puzles/Misterio',\n",
       "       'Puzles/Plataformas', 'Fiesta', 'Musical/Baile', 'AcciÃ³n/Luch',\n",
       "       'Fitness/Bienestar'], dtype=object)"
      ]
     },
     "execution_count": 46,
     "metadata": {},
     "output_type": "execute_result"
    }
   ],
   "source": [
    "juegos[\"categoria\"].unique()"
   ]
  },
  {
   "cell_type": "code",
   "execution_count": 47,
   "id": "b48c0ffb",
   "metadata": {},
   "outputs": [],
   "source": [
    "reemplazos= {\n",
    "    \"AcciÃ³n\": \"Accion\",\n",
    "    \"tÃ¡ctico\" :\"tactico\",\n",
    "    \"SimulaciÃ³n\": \"Simulacion\"\n",
    "}"
   ]
  },
  {
   "cell_type": "code",
   "execution_count": 48,
   "id": "021332b7",
   "metadata": {},
   "outputs": [],
   "source": [
    "for malo, bueno in reemplazos.items():\n",
    "    juegos[\"categoria\"].str.replace(malo, bueno, regex=False)"
   ]
  },
  {
   "cell_type": "code",
   "execution_count": 49,
   "id": "3763b8a5",
   "metadata": {},
   "outputs": [
    {
     "data": {
      "text/html": [
       "<div>\n",
       "<style scoped>\n",
       "    .dataframe tbody tr th:only-of-type {\n",
       "        vertical-align: middle;\n",
       "    }\n",
       "\n",
       "    .dataframe tbody tr th {\n",
       "        vertical-align: top;\n",
       "    }\n",
       "\n",
       "    .dataframe thead th {\n",
       "        text-align: right;\n",
       "    }\n",
       "</style>\n",
       "<table border=\"1\" class=\"dataframe\">\n",
       "  <thead>\n",
       "    <tr style=\"text-align: right;\">\n",
       "      <th></th>\n",
       "      <th>id_juego</th>\n",
       "      <th>nombre</th>\n",
       "      <th>categoria</th>\n",
       "      <th>fecha_lanzamiento</th>\n",
       "      <th>puntaje_global</th>\n",
       "    </tr>\n",
       "  </thead>\n",
       "  <tbody>\n",
       "    <tr>\n",
       "      <th>0</th>\n",
       "      <td>1</td>\n",
       "      <td>Assassin's Creed IV: Black Flag 1</td>\n",
       "      <td>AcciÃ³n/Aventur</td>\n",
       "      <td>2013</td>\n",
       "      <td>8.191430</td>\n",
       "    </tr>\n",
       "    <tr>\n",
       "      <th>1</th>\n",
       "      <td>2</td>\n",
       "      <td>Far Cry 3 1</td>\n",
       "      <td>AcciÃ³n/Aventur</td>\n",
       "      <td>2012</td>\n",
       "      <td>83.068108</td>\n",
       "    </tr>\n",
       "    <tr>\n",
       "      <th>2</th>\n",
       "      <td>3</td>\n",
       "      <td>For Honor 1</td>\n",
       "      <td>Lucha</td>\n",
       "      <td>2017</td>\n",
       "      <td>19.514254</td>\n",
       "    </tr>\n",
       "    <tr>\n",
       "      <th>3</th>\n",
       "      <td>4</td>\n",
       "      <td>Rayman Origins 1</td>\n",
       "      <td>Plataformas</td>\n",
       "      <td>2011</td>\n",
       "      <td>73.511024</td>\n",
       "    </tr>\n",
       "    <tr>\n",
       "      <th>4</th>\n",
       "      <td>5</td>\n",
       "      <td>Watch Dogs 1</td>\n",
       "      <td>AcciÃ³n/Aventur</td>\n",
       "      <td>2014</td>\n",
       "      <td>60.060021</td>\n",
       "    </tr>\n",
       "  </tbody>\n",
       "</table>\n",
       "</div>"
      ],
      "text/plain": [
       "   id_juego                             nombre        categoria  \\\n",
       "0         1  Assassin's Creed IV: Black Flag 1  AcciÃ³n/Aventur   \n",
       "1         2                        Far Cry 3 1  AcciÃ³n/Aventur   \n",
       "2         3                        For Honor 1            Lucha   \n",
       "3         4                   Rayman Origins 1      Plataformas   \n",
       "4         5                       Watch Dogs 1  AcciÃ³n/Aventur   \n",
       "\n",
       "  fecha_lanzamiento  puntaje_global  \n",
       "0              2013        8.191430  \n",
       "1              2012       83.068108  \n",
       "2              2017       19.514254  \n",
       "3              2011       73.511024  \n",
       "4              2014       60.060021  "
      ]
     },
     "execution_count": 49,
     "metadata": {},
     "output_type": "execute_result"
    }
   ],
   "source": [
    "juegos.head()"
   ]
  },
  {
   "cell_type": "code",
   "execution_count": 50,
   "id": "a412967c",
   "metadata": {},
   "outputs": [],
   "source": [
    "def corregir_subcadena(texto):\n",
    "    try:\n",
    "        return texto.encode(\"latin1\").decode(\"utf-8\")\n",
    "    except:\n",
    "        return texto\n",
    "\n",
    "juegos[\"categoria\"] = juegos[\"categoria\"].apply(corregir_subcadena)\n"
   ]
  },
  {
   "cell_type": "code",
   "execution_count": 51,
   "id": "169f2ae6",
   "metadata": {},
   "outputs": [
    {
     "data": {
      "text/html": [
       "<div>\n",
       "<style scoped>\n",
       "    .dataframe tbody tr th:only-of-type {\n",
       "        vertical-align: middle;\n",
       "    }\n",
       "\n",
       "    .dataframe tbody tr th {\n",
       "        vertical-align: top;\n",
       "    }\n",
       "\n",
       "    .dataframe thead th {\n",
       "        text-align: right;\n",
       "    }\n",
       "</style>\n",
       "<table border=\"1\" class=\"dataframe\">\n",
       "  <thead>\n",
       "    <tr style=\"text-align: right;\">\n",
       "      <th></th>\n",
       "      <th>id_juego</th>\n",
       "      <th>nombre</th>\n",
       "      <th>categoria</th>\n",
       "      <th>fecha_lanzamiento</th>\n",
       "      <th>puntaje_global</th>\n",
       "    </tr>\n",
       "  </thead>\n",
       "  <tbody>\n",
       "    <tr>\n",
       "      <th>0</th>\n",
       "      <td>1</td>\n",
       "      <td>Assassin's Creed IV: Black Flag 1</td>\n",
       "      <td>Acción/Aventur</td>\n",
       "      <td>2013</td>\n",
       "      <td>8.191430</td>\n",
       "    </tr>\n",
       "    <tr>\n",
       "      <th>1</th>\n",
       "      <td>2</td>\n",
       "      <td>Far Cry 3 1</td>\n",
       "      <td>Acción/Aventur</td>\n",
       "      <td>2012</td>\n",
       "      <td>83.068108</td>\n",
       "    </tr>\n",
       "    <tr>\n",
       "      <th>2</th>\n",
       "      <td>3</td>\n",
       "      <td>For Honor 1</td>\n",
       "      <td>Lucha</td>\n",
       "      <td>2017</td>\n",
       "      <td>19.514254</td>\n",
       "    </tr>\n",
       "    <tr>\n",
       "      <th>3</th>\n",
       "      <td>4</td>\n",
       "      <td>Rayman Origins 1</td>\n",
       "      <td>Plataformas</td>\n",
       "      <td>2011</td>\n",
       "      <td>73.511024</td>\n",
       "    </tr>\n",
       "    <tr>\n",
       "      <th>4</th>\n",
       "      <td>5</td>\n",
       "      <td>Watch Dogs 1</td>\n",
       "      <td>Acción/Aventur</td>\n",
       "      <td>2014</td>\n",
       "      <td>60.060021</td>\n",
       "    </tr>\n",
       "  </tbody>\n",
       "</table>\n",
       "</div>"
      ],
      "text/plain": [
       "   id_juego                             nombre       categoria  \\\n",
       "0         1  Assassin's Creed IV: Black Flag 1  Acción/Aventur   \n",
       "1         2                        Far Cry 3 1  Acción/Aventur   \n",
       "2         3                        For Honor 1           Lucha   \n",
       "3         4                   Rayman Origins 1     Plataformas   \n",
       "4         5                       Watch Dogs 1  Acción/Aventur   \n",
       "\n",
       "  fecha_lanzamiento  puntaje_global  \n",
       "0              2013        8.191430  \n",
       "1              2012       83.068108  \n",
       "2              2017       19.514254  \n",
       "3              2011       73.511024  \n",
       "4              2014       60.060021  "
      ]
     },
     "execution_count": 51,
     "metadata": {},
     "output_type": "execute_result"
    }
   ],
   "source": [
    "juegos.head()"
   ]
  },
  {
   "cell_type": "code",
   "execution_count": 52,
   "id": "c5077ca2",
   "metadata": {},
   "outputs": [
    {
     "data": {
      "text/html": [
       "<div>\n",
       "<style scoped>\n",
       "    .dataframe tbody tr th:only-of-type {\n",
       "        vertical-align: middle;\n",
       "    }\n",
       "\n",
       "    .dataframe tbody tr th {\n",
       "        vertical-align: top;\n",
       "    }\n",
       "\n",
       "    .dataframe thead th {\n",
       "        text-align: right;\n",
       "    }\n",
       "</style>\n",
       "<table border=\"1\" class=\"dataframe\">\n",
       "  <thead>\n",
       "    <tr style=\"text-align: right;\">\n",
       "      <th></th>\n",
       "      <th>id_juego</th>\n",
       "      <th>nombre</th>\n",
       "      <th>categoria</th>\n",
       "      <th>fecha_lanzamiento</th>\n",
       "      <th>puntaje_global</th>\n",
       "    </tr>\n",
       "  </thead>\n",
       "  <tbody>\n",
       "    <tr>\n",
       "      <th>12</th>\n",
       "      <td>13</td>\n",
       "      <td>Assassin's Creed Codename HEXE 1</td>\n",
       "      <td>Acción/Aventur</td>\n",
       "      <td>No publicado</td>\n",
       "      <td>NaN</td>\n",
       "    </tr>\n",
       "    <tr>\n",
       "      <th>86</th>\n",
       "      <td>87</td>\n",
       "      <td>Far Cry 5 para PlayStation 4 1</td>\n",
       "      <td>Acción/Aventur</td>\n",
       "      <td>2018</td>\n",
       "      <td>NaN</td>\n",
       "    </tr>\n",
       "    <tr>\n",
       "      <th>105</th>\n",
       "      <td>106</td>\n",
       "      <td>City of Love: Paris 1</td>\n",
       "      <td>Simulación/Aventur</td>\n",
       "      <td>2016</td>\n",
       "      <td>NaN</td>\n",
       "    </tr>\n",
       "    <tr>\n",
       "      <th>109</th>\n",
       "      <td>110</td>\n",
       "      <td>Steep 1</td>\n",
       "      <td>Deportes extremos</td>\n",
       "      <td>2016</td>\n",
       "      <td>NaN</td>\n",
       "    </tr>\n",
       "    <tr>\n",
       "      <th>136</th>\n",
       "      <td>137</td>\n",
       "      <td>Tom Clancy's Rainbow Six Siege 1</td>\n",
       "      <td>Disparos táctico</td>\n",
       "      <td>2015</td>\n",
       "      <td>NaN</td>\n",
       "    </tr>\n",
       "    <tr>\n",
       "      <th>183</th>\n",
       "      <td>184</td>\n",
       "      <td>Watch Dogs 1</td>\n",
       "      <td>Acción/Aventur</td>\n",
       "      <td>2014</td>\n",
       "      <td>NaN</td>\n",
       "    </tr>\n",
       "    <tr>\n",
       "      <th>187</th>\n",
       "      <td>188</td>\n",
       "      <td>Ghost Recon Phantoms 1</td>\n",
       "      <td>Disparos táctico</td>\n",
       "      <td>2013</td>\n",
       "      <td>NaN</td>\n",
       "    </tr>\n",
       "    <tr>\n",
       "      <th>248</th>\n",
       "      <td>249</td>\n",
       "      <td>I Am Alive XBLA 1</td>\n",
       "      <td>Supervivencia</td>\n",
       "      <td>2012</td>\n",
       "      <td>NaN</td>\n",
       "    </tr>\n",
       "    <tr>\n",
       "      <th>281</th>\n",
       "      <td>282</td>\n",
       "      <td>Tom Clancy's Splinter Cell HD PSN 1</td>\n",
       "      <td>Sigilo/Acció</td>\n",
       "      <td>2011</td>\n",
       "      <td>NaN</td>\n",
       "    </tr>\n",
       "    <tr>\n",
       "      <th>312</th>\n",
       "      <td>313</td>\n",
       "      <td>Rayman Origins 2</td>\n",
       "      <td>Plataformas</td>\n",
       "      <td>2011</td>\n",
       "      <td>NaN</td>\n",
       "    </tr>\n",
       "    <tr>\n",
       "      <th>316</th>\n",
       "      <td>317</td>\n",
       "      <td>South Park: The Stick of Truth 2</td>\n",
       "      <td>Rol</td>\n",
       "      <td>2014</td>\n",
       "      <td>NaN</td>\n",
       "    </tr>\n",
       "    <tr>\n",
       "      <th>343</th>\n",
       "      <td>344</td>\n",
       "      <td>Rabbids: Legends of the Multiverse para iPhone 2</td>\n",
       "      <td>Estrategia/Cartas</td>\n",
       "      <td>2023</td>\n",
       "      <td>NaN</td>\n",
       "    </tr>\n",
       "    <tr>\n",
       "      <th>344</th>\n",
       "      <td>345</td>\n",
       "      <td>The Rogue Prince of Persia para Ordenador 2</td>\n",
       "      <td>Plataformas/Roguelite</td>\n",
       "      <td>No disponible</td>\n",
       "      <td>NaN</td>\n",
       "    </tr>\n",
       "  </tbody>\n",
       "</table>\n",
       "</div>"
      ],
      "text/plain": [
       "     id_juego                                            nombre  \\\n",
       "12         13                  Assassin's Creed Codename HEXE 1   \n",
       "86         87                    Far Cry 5 para PlayStation 4 1   \n",
       "105       106                             City of Love: Paris 1   \n",
       "109       110                                           Steep 1   \n",
       "136       137                  Tom Clancy's Rainbow Six Siege 1   \n",
       "183       184                                      Watch Dogs 1   \n",
       "187       188                            Ghost Recon Phantoms 1   \n",
       "248       249                                 I Am Alive XBLA 1   \n",
       "281       282               Tom Clancy's Splinter Cell HD PSN 1   \n",
       "312       313                                  Rayman Origins 2   \n",
       "316       317                  South Park: The Stick of Truth 2   \n",
       "343       344  Rabbids: Legends of the Multiverse para iPhone 2   \n",
       "344       345       The Rogue Prince of Persia para Ordenador 2   \n",
       "\n",
       "                 categoria fecha_lanzamiento  puntaje_global  \n",
       "12          Acción/Aventur      No publicado             NaN  \n",
       "86          Acción/Aventur              2018             NaN  \n",
       "105     Simulación/Aventur              2016             NaN  \n",
       "109      Deportes extremos              2016             NaN  \n",
       "136       Disparos táctico              2015             NaN  \n",
       "183         Acción/Aventur              2014             NaN  \n",
       "187       Disparos táctico              2013             NaN  \n",
       "248          Supervivencia              2012             NaN  \n",
       "281           Sigilo/Acció              2011             NaN  \n",
       "312            Plataformas              2011             NaN  \n",
       "316                    Rol              2014             NaN  \n",
       "343      Estrategia/Cartas              2023             NaN  \n",
       "344  Plataformas/Roguelite     No disponible             NaN  "
      ]
     },
     "execution_count": 52,
     "metadata": {},
     "output_type": "execute_result"
    }
   ],
   "source": [
    "juegos[juegos[\"puntaje_global\"].isna()]"
   ]
  },
  {
   "cell_type": "code",
   "execution_count": 53,
   "id": "f2905fb6",
   "metadata": {},
   "outputs": [],
   "source": [
    "juegos.drop(index=[12, 344], inplace=True)"
   ]
  },
  {
   "cell_type": "code",
   "execution_count": 54,
   "id": "d28ea560",
   "metadata": {},
   "outputs": [
    {
     "data": {
      "text/html": [
       "<div>\n",
       "<style scoped>\n",
       "    .dataframe tbody tr th:only-of-type {\n",
       "        vertical-align: middle;\n",
       "    }\n",
       "\n",
       "    .dataframe tbody tr th {\n",
       "        vertical-align: top;\n",
       "    }\n",
       "\n",
       "    .dataframe thead th {\n",
       "        text-align: right;\n",
       "    }\n",
       "</style>\n",
       "<table border=\"1\" class=\"dataframe\">\n",
       "  <thead>\n",
       "    <tr style=\"text-align: right;\">\n",
       "      <th></th>\n",
       "      <th>id_juego</th>\n",
       "      <th>nombre</th>\n",
       "      <th>categoria</th>\n",
       "      <th>fecha_lanzamiento</th>\n",
       "      <th>puntaje_global</th>\n",
       "    </tr>\n",
       "  </thead>\n",
       "  <tbody>\n",
       "    <tr>\n",
       "      <th>86</th>\n",
       "      <td>87</td>\n",
       "      <td>Far Cry 5 para PlayStation 4 1</td>\n",
       "      <td>Acción/Aventur</td>\n",
       "      <td>2018</td>\n",
       "      <td>NaN</td>\n",
       "    </tr>\n",
       "    <tr>\n",
       "      <th>105</th>\n",
       "      <td>106</td>\n",
       "      <td>City of Love: Paris 1</td>\n",
       "      <td>Simulación/Aventur</td>\n",
       "      <td>2016</td>\n",
       "      <td>NaN</td>\n",
       "    </tr>\n",
       "    <tr>\n",
       "      <th>109</th>\n",
       "      <td>110</td>\n",
       "      <td>Steep 1</td>\n",
       "      <td>Deportes extremos</td>\n",
       "      <td>2016</td>\n",
       "      <td>NaN</td>\n",
       "    </tr>\n",
       "    <tr>\n",
       "      <th>136</th>\n",
       "      <td>137</td>\n",
       "      <td>Tom Clancy's Rainbow Six Siege 1</td>\n",
       "      <td>Disparos táctico</td>\n",
       "      <td>2015</td>\n",
       "      <td>NaN</td>\n",
       "    </tr>\n",
       "    <tr>\n",
       "      <th>183</th>\n",
       "      <td>184</td>\n",
       "      <td>Watch Dogs 1</td>\n",
       "      <td>Acción/Aventur</td>\n",
       "      <td>2014</td>\n",
       "      <td>NaN</td>\n",
       "    </tr>\n",
       "    <tr>\n",
       "      <th>187</th>\n",
       "      <td>188</td>\n",
       "      <td>Ghost Recon Phantoms 1</td>\n",
       "      <td>Disparos táctico</td>\n",
       "      <td>2013</td>\n",
       "      <td>NaN</td>\n",
       "    </tr>\n",
       "    <tr>\n",
       "      <th>248</th>\n",
       "      <td>249</td>\n",
       "      <td>I Am Alive XBLA 1</td>\n",
       "      <td>Supervivencia</td>\n",
       "      <td>2012</td>\n",
       "      <td>NaN</td>\n",
       "    </tr>\n",
       "    <tr>\n",
       "      <th>281</th>\n",
       "      <td>282</td>\n",
       "      <td>Tom Clancy's Splinter Cell HD PSN 1</td>\n",
       "      <td>Sigilo/Acció</td>\n",
       "      <td>2011</td>\n",
       "      <td>NaN</td>\n",
       "    </tr>\n",
       "    <tr>\n",
       "      <th>312</th>\n",
       "      <td>313</td>\n",
       "      <td>Rayman Origins 2</td>\n",
       "      <td>Plataformas</td>\n",
       "      <td>2011</td>\n",
       "      <td>NaN</td>\n",
       "    </tr>\n",
       "    <tr>\n",
       "      <th>316</th>\n",
       "      <td>317</td>\n",
       "      <td>South Park: The Stick of Truth 2</td>\n",
       "      <td>Rol</td>\n",
       "      <td>2014</td>\n",
       "      <td>NaN</td>\n",
       "    </tr>\n",
       "    <tr>\n",
       "      <th>343</th>\n",
       "      <td>344</td>\n",
       "      <td>Rabbids: Legends of the Multiverse para iPhone 2</td>\n",
       "      <td>Estrategia/Cartas</td>\n",
       "      <td>2023</td>\n",
       "      <td>NaN</td>\n",
       "    </tr>\n",
       "  </tbody>\n",
       "</table>\n",
       "</div>"
      ],
      "text/plain": [
       "     id_juego                                            nombre  \\\n",
       "86         87                    Far Cry 5 para PlayStation 4 1   \n",
       "105       106                             City of Love: Paris 1   \n",
       "109       110                                           Steep 1   \n",
       "136       137                  Tom Clancy's Rainbow Six Siege 1   \n",
       "183       184                                      Watch Dogs 1   \n",
       "187       188                            Ghost Recon Phantoms 1   \n",
       "248       249                                 I Am Alive XBLA 1   \n",
       "281       282               Tom Clancy's Splinter Cell HD PSN 1   \n",
       "312       313                                  Rayman Origins 2   \n",
       "316       317                  South Park: The Stick of Truth 2   \n",
       "343       344  Rabbids: Legends of the Multiverse para iPhone 2   \n",
       "\n",
       "              categoria fecha_lanzamiento  puntaje_global  \n",
       "86       Acción/Aventur              2018             NaN  \n",
       "105  Simulación/Aventur              2016             NaN  \n",
       "109   Deportes extremos              2016             NaN  \n",
       "136    Disparos táctico              2015             NaN  \n",
       "183      Acción/Aventur              2014             NaN  \n",
       "187    Disparos táctico              2013             NaN  \n",
       "248       Supervivencia              2012             NaN  \n",
       "281        Sigilo/Acció              2011             NaN  \n",
       "312         Plataformas              2011             NaN  \n",
       "316                 Rol              2014             NaN  \n",
       "343   Estrategia/Cartas              2023             NaN  "
      ]
     },
     "execution_count": 54,
     "metadata": {},
     "output_type": "execute_result"
    }
   ],
   "source": [
    "juegos[juegos[\"puntaje_global\"].isna()]"
   ]
  },
  {
   "cell_type": "code",
   "execution_count": 55,
   "id": "caa0a75d",
   "metadata": {},
   "outputs": [],
   "source": [
    "juegos['nombre'] = juegos['nombre'].str.replace(r'[^\\x00-\\x7F]+', '', regex=True)\n"
   ]
  },
  {
   "cell_type": "markdown",
   "id": "1fcb882d",
   "metadata": {},
   "source": [
    "# JUGADORES\n"
   ]
  },
  {
   "cell_type": "code",
   "execution_count": 56,
   "id": "1b5f9765",
   "metadata": {},
   "outputs": [
    {
     "data": {
      "text/html": [
       "<div>\n",
       "<style scoped>\n",
       "    .dataframe tbody tr th:only-of-type {\n",
       "        vertical-align: middle;\n",
       "    }\n",
       "\n",
       "    .dataframe tbody tr th {\n",
       "        vertical-align: top;\n",
       "    }\n",
       "\n",
       "    .dataframe thead th {\n",
       "        text-align: right;\n",
       "    }\n",
       "</style>\n",
       "<table border=\"1\" class=\"dataframe\">\n",
       "  <thead>\n",
       "    <tr style=\"text-align: right;\">\n",
       "      <th></th>\n",
       "      <th>id_jugador</th>\n",
       "      <th>nombre_usuario</th>\n",
       "      <th>paï¿½</th>\n",
       "      <th>fecha_registro</th>\n",
       "    </tr>\n",
       "  </thead>\n",
       "  <tbody>\n",
       "    <tr>\n",
       "      <th>0</th>\n",
       "      <td>1</td>\n",
       "      <td>cardozovictoria</td>\n",
       "      <td>Papua Nueva Guinea</td>\n",
       "      <td>6/20/2024</td>\n",
       "    </tr>\n",
       "    <tr>\n",
       "      <th>1</th>\n",
       "      <td>2</td>\n",
       "      <td>sofia24</td>\n",
       "      <td>Brasil</td>\n",
       "      <td>2/18/2025</td>\n",
       "    </tr>\n",
       "    <tr>\n",
       "      <th>2</th>\n",
       "      <td>3</td>\n",
       "      <td>ramiro29</td>\n",
       "      <td>Timor-Leste</td>\n",
       "      <td>12/4/2023</td>\n",
       "    </tr>\n",
       "    <tr>\n",
       "      <th>3</th>\n",
       "      <td>4</td>\n",
       "      <td>lucerotiziano-valentin</td>\n",
       "      <td>Mï¿½ï¿½</td>\n",
       "      <td>10/21/2020</td>\n",
       "    </tr>\n",
       "    <tr>\n",
       "      <th>4</th>\n",
       "      <td>5</td>\n",
       "      <td>matilda84</td>\n",
       "      <td>Zimbabwe</td>\n",
       "      <td>4/20/2025</td>\n",
       "    </tr>\n",
       "  </tbody>\n",
       "</table>\n",
       "</div>"
      ],
      "text/plain": [
       "   id_jugador          nombre_usuario               paï¿½ fecha_registro\n",
       "0           1         cardozovictoria  Papua Nueva Guinea      6/20/2024\n",
       "1           2                 sofia24              Brasil      2/18/2025\n",
       "2           3                ramiro29         Timor-Leste      12/4/2023\n",
       "3           4  lucerotiziano-valentin             Mï¿½ï¿½     10/21/2020\n",
       "4           5               matilda84            Zimbabwe      4/20/2025"
      ]
     },
     "execution_count": 56,
     "metadata": {},
     "output_type": "execute_result"
    }
   ],
   "source": [
    "jugadores.head()"
   ]
  },
  {
   "cell_type": "code",
   "execution_count": 57,
   "id": "9cbfd1d0",
   "metadata": {},
   "outputs": [],
   "source": [
    "jugadores= jugadores.rename(columns={\"paï¿½\":\"pais\"})"
   ]
  },
  {
   "cell_type": "code",
   "execution_count": 58,
   "id": "b3d5c1b9",
   "metadata": {},
   "outputs": [],
   "source": [
    "def fix_codification(texto):\n",
    "    try:\n",
    "        return texto.encode(\"ISO-8859-1\").decode(\"utf-8\")\n",
    "    except:\n",
    "        return texto"
   ]
  },
  {
   "cell_type": "code",
   "execution_count": 59,
   "id": "1e8fcb24",
   "metadata": {},
   "outputs": [
    {
     "name": "stdout",
     "output_type": "stream",
     "text": [
      "Index(['id_jugador', 'nombre_usuario', 'pais', 'fecha_registro'], dtype='object')\n"
     ]
    }
   ],
   "source": [
    "print(jugadores.columns)\n"
   ]
  },
  {
   "cell_type": "code",
   "execution_count": 60,
   "id": "3a38060f",
   "metadata": {},
   "outputs": [],
   "source": [
    "jugadores[\"pais\"]=jugadores[\"pais\"].apply(fix_codification)"
   ]
  },
  {
   "cell_type": "code",
   "execution_count": 61,
   "id": "befe324e",
   "metadata": {},
   "outputs": [
    {
     "data": {
      "text/plain": [
       "array(['Papua Nueva Guinea', 'Brasil', 'Timor-Leste', 'M��', 'Zimbabwe',\n",
       "       'Uruguay', 'Paraguay', 'Guinea',\n",
       "       'Rep��blica Popular Democr��tica ', 'Benin',\n",
       "       'Bosnia y Herzegovina', 'Ecuador', 'Camboya', 'Ucrania', nan,\n",
       "       'Belice', 'Bulgaria', 'Dinamarca', 'Suriname',\n",
       "       'Rep��blica Unida de Tanza', 'Chile', 'Liechtenstein', 'Eritrea',\n",
       "       'Rep��blica Democr��tica d', 'Granada', 'Mali', 'Alemania',\n",
       "       'Rep��blica ��ra', 'Seychelles', 'Marruecos',\n",
       "       'Saint Kitts y Nevis', 'El Salvador', 'Tonga', 'Myanmar',\n",
       "       'Arabia Saudita', 'Swazilandia', 'Azerbaiy�', 'Malta', 'Libia',\n",
       "       'Nauru', 'Montenegro', 'Sud��n del', 'Jordania',\n",
       "       'Trinidad y Tabago', 'Rep��blica de Mol', 'Belar�', 'Portugal',\n",
       "       'Cuba', 'Somalia', 'Etiop�', 'Om�', 'Islas Marshall', 'Pakist�',\n",
       "       'Tailandia', 'Hungr�', 'Colombia',\n",
       "       'Reino Unido de Gran Breta��a e Irlanda del N',\n",
       "       'Santo Tom�� y Pr�', 'Lituania', 'Gambia', 'Italia', 'Niger',\n",
       "       'Tayikist�', 'Canadï¿', 'Guinea Ecuatorial', 'Letonia',\n",
       "       'Eslovenia', 'Singapur', 'Bhut�', 'Brunei Darussalam',\n",
       "       'Dominicana', 'B��l', 'Filipinas', 'Tuvalu', 'Serbia', 'Afganist�',\n",
       "       'Sri Lanka', 'Tï¿½ï¿', 'Honduras', 'Noruega', 'Suiza', 'Maldivas',\n",
       "       'Federaci��n de R', 'Israel', 'China', 'Grecia', 'Turqu�', 'Jap�',\n",
       "       'Albania', 'Finlandia', 'Kirguist�', 'Sierra Leona', 'Yemen',\n",
       "       'Malasia', 'Uzbekist�', 'Armenia', 'Namibia', 'Madagascar',\n",
       "       'Rwanda', 'Barbados', 'India', 'Zambia', 'Comoras',\n",
       "       'Rep��blica Domini', 'Jamaica', 'Samoa', 'Congo', 'Luxemburgo',\n",
       "       'Cabo Verde', 'Georgia', 'Pa��ses B', 'Australia', 'Bahrein',\n",
       "       'Iraq', 'Estonia', 'Uganda', 'Francia', 'Micronesia', 'Rumania',\n",
       "       'Djibouti', 'Costa Rica', \"C��te d'Iv\", 'Kenya', 'Burkina Faso',\n",
       "       'Irlanda', 'Argentina', 'Malawi', 'Nicaragua', 'Andorra', 'Ir�',\n",
       "       'Venezuela', 'Polonia', 'Chipre', 'Burundi', 'Emiratos ��rabes Un',\n",
       "       'San Marino', 'Guinea Bissau', 'Indonesia', 'Rep��blica C', 'Togo',\n",
       "       'Islandia', 'Ghana', 'Rep��blica Democr��tica Pop', 'Espa�',\n",
       "       'Kiribati', 'Rep��blica de C', 'L��', 'Haitï¿', 'Mozambique',\n",
       "       'Botswana', 'Rep��blica Centroafri', 'Lesotho', 'Camer�',\n",
       "       'Bahamas', 'Mauritania', 'Mongolia', 'Argelia',\n",
       "       'Estados Unidos de Am��', 'Rep��blica Federal Democr��tica ',\n",
       "       'Suecia', 'Perï¿', 'Eslovaquia', 'Nigeria', 'Liberia', 'Kuwait',\n",
       "       'Senegal', 'Guatemala', 'Bangladesh', 'Panamï¿', 'Mauricio',\n",
       "       'Qatar', 'San Vicente y las Granadinas', 'Kazajst�', 'Chad',\n",
       "       'Bolivia', 'Santa Luc�', 'Fiji', 'Guyana', 'Croacia', 'Egipto',\n",
       "       'Vanuatu', 'Gab�', 'Angola', 'Palau', 'Vietman',\n",
       "       'Rep��blica de Macedonia del N', 'Antigua y Barbuda',\n",
       "       'Turkmenist�', 'Sud�', 'Islas Salom�', 'Sud��f', 'Austria',\n",
       "       'Nueva Zelandia'], dtype=object)"
      ]
     },
     "execution_count": 61,
     "metadata": {},
     "output_type": "execute_result"
    }
   ],
   "source": [
    "jugadores[\"pais\"].unique()"
   ]
  },
  {
   "cell_type": "code",
   "execution_count": 62,
   "id": "46f3c2bf",
   "metadata": {},
   "outputs": [],
   "source": [
    "reemplazo_paises = {\n",
    "    'M��': 'México',\n",
    "    'Rep��blica Popular Democr��tica ': 'República Popular Democrática de Corea',\n",
    "    'Rep��blica Unida de Tanza': 'República Unida de Tanzania',\n",
    "    'Rep��blica Democr��tica d': 'República Democrática del Congo',\n",
    "    'Rep��blica ��ra': 'República Árabe Siria',\n",
    "    'Azerbaiy�': 'Azerbaiyán',\n",
    "    'Sud��n del': 'Sudán del Sur',\n",
    "    'Rep��blica de Mol': 'República de Moldova',\n",
    "    'Belar�': 'Bielorrusia',\n",
    "    'Etiop�': 'Etiopía',\n",
    "    'Om�': 'Omán',\n",
    "    'Pakist�': 'Pakistán',\n",
    "    'Hungr�': 'Hungría',\n",
    "    'Reino Unido de Gran Breta��a e Irlanda del N': 'Reino Unido de Gran Bretaña e Irlanda del Norte',\n",
    "    'Santo Tom�� y Pr�': 'Santo Tomé y Príncipe',\n",
    "    'Tayikist�': 'Tayikistán',\n",
    "    'Canadï¿': 'Canadá',\n",
    "    'Bhut�': 'Bután',\n",
    "    'B��l': 'Brasil', \n",
    "    'Afganist�': 'Afganistán',\n",
    "    'Turqu�': 'Turquía',\n",
    "    'Jap�': 'Japón',\n",
    "    'Kirguist�': 'Kirguistán',\n",
    "    'Uzbekist�': 'Uzbekistán',\n",
    "    'Sud�': 'Sudán',\n",
    "    'Sud��f': 'Sudáfrica',\n",
    "    'Gab�': 'Gabón',\n",
    "    'Santa Luc�': 'Santa Lucía'\n",
    "     }"
   ]
  },
  {
   "cell_type": "code",
   "execution_count": 63,
   "id": "679ca301",
   "metadata": {},
   "outputs": [],
   "source": [
    "jugadores['pais'] = jugadores['pais'].replace(reemplazo_paises)\n"
   ]
  },
  {
   "cell_type": "code",
   "execution_count": 64,
   "id": "a91d1969",
   "metadata": {},
   "outputs": [
    {
     "data": {
      "text/html": [
       "<div>\n",
       "<style scoped>\n",
       "    .dataframe tbody tr th:only-of-type {\n",
       "        vertical-align: middle;\n",
       "    }\n",
       "\n",
       "    .dataframe tbody tr th {\n",
       "        vertical-align: top;\n",
       "    }\n",
       "\n",
       "    .dataframe thead th {\n",
       "        text-align: right;\n",
       "    }\n",
       "</style>\n",
       "<table border=\"1\" class=\"dataframe\">\n",
       "  <thead>\n",
       "    <tr style=\"text-align: right;\">\n",
       "      <th></th>\n",
       "      <th>id_jugador</th>\n",
       "      <th>nombre_usuario</th>\n",
       "      <th>pais</th>\n",
       "      <th>fecha_registro</th>\n",
       "    </tr>\n",
       "  </thead>\n",
       "  <tbody>\n",
       "    <tr>\n",
       "      <th>0</th>\n",
       "      <td>1</td>\n",
       "      <td>cardozovictoria</td>\n",
       "      <td>Papua Nueva Guinea</td>\n",
       "      <td>6/20/2024</td>\n",
       "    </tr>\n",
       "    <tr>\n",
       "      <th>1</th>\n",
       "      <td>2</td>\n",
       "      <td>sofia24</td>\n",
       "      <td>Brasil</td>\n",
       "      <td>2/18/2025</td>\n",
       "    </tr>\n",
       "    <tr>\n",
       "      <th>2</th>\n",
       "      <td>3</td>\n",
       "      <td>ramiro29</td>\n",
       "      <td>Timor-Leste</td>\n",
       "      <td>12/4/2023</td>\n",
       "    </tr>\n",
       "    <tr>\n",
       "      <th>3</th>\n",
       "      <td>4</td>\n",
       "      <td>lucerotiziano-valentin</td>\n",
       "      <td>México</td>\n",
       "      <td>10/21/2020</td>\n",
       "    </tr>\n",
       "    <tr>\n",
       "      <th>4</th>\n",
       "      <td>5</td>\n",
       "      <td>matilda84</td>\n",
       "      <td>Zimbabwe</td>\n",
       "      <td>4/20/2025</td>\n",
       "    </tr>\n",
       "  </tbody>\n",
       "</table>\n",
       "</div>"
      ],
      "text/plain": [
       "   id_jugador          nombre_usuario                pais fecha_registro\n",
       "0           1         cardozovictoria  Papua Nueva Guinea      6/20/2024\n",
       "1           2                 sofia24              Brasil      2/18/2025\n",
       "2           3                ramiro29         Timor-Leste      12/4/2023\n",
       "3           4  lucerotiziano-valentin              México     10/21/2020\n",
       "4           5               matilda84            Zimbabwe      4/20/2025"
      ]
     },
     "execution_count": 64,
     "metadata": {},
     "output_type": "execute_result"
    }
   ],
   "source": [
    "jugadores.head()"
   ]
  },
  {
   "cell_type": "code",
   "execution_count": 65,
   "id": "bf1e0882",
   "metadata": {},
   "outputs": [
    {
     "data": {
      "text/plain": [
       "id_jugador         int64\n",
       "nombre_usuario    object\n",
       "pais              object\n",
       "fecha_registro    object\n",
       "dtype: object"
      ]
     },
     "execution_count": 65,
     "metadata": {},
     "output_type": "execute_result"
    }
   ],
   "source": [
    "jugadores.dtypes"
   ]
  },
  {
   "cell_type": "code",
   "execution_count": 66,
   "id": "bd1adf2b",
   "metadata": {},
   "outputs": [],
   "source": [
    "jugadores[\"fecha_registro\"] = pd.to_datetime(jugadores[\"fecha_registro\"])"
   ]
  },
  {
   "cell_type": "markdown",
   "id": "af80fa61",
   "metadata": {},
   "source": [
    "# Sesiones"
   ]
  },
  {
   "cell_type": "code",
   "execution_count": 67,
   "id": "aebfbb27",
   "metadata": {},
   "outputs": [
    {
     "data": {
      "text/html": [
       "<div>\n",
       "<style scoped>\n",
       "    .dataframe tbody tr th:only-of-type {\n",
       "        vertical-align: middle;\n",
       "    }\n",
       "\n",
       "    .dataframe tbody tr th {\n",
       "        vertical-align: top;\n",
       "    }\n",
       "\n",
       "    .dataframe thead th {\n",
       "        text-align: right;\n",
       "    }\n",
       "</style>\n",
       "<table border=\"1\" class=\"dataframe\">\n",
       "  <thead>\n",
       "    <tr style=\"text-align: right;\">\n",
       "      <th></th>\n",
       "      <th>id_sesion</th>\n",
       "      <th>id_jugador</th>\n",
       "      <th>id_juego</th>\n",
       "      <th>fecha_inicio</th>\n",
       "      <th>fecha_fin</th>\n",
       "    </tr>\n",
       "  </thead>\n",
       "  <tbody>\n",
       "    <tr>\n",
       "      <th>0</th>\n",
       "      <td>1</td>\n",
       "      <td>4234</td>\n",
       "      <td>221</td>\n",
       "      <td>4/18/2025 9:46</td>\n",
       "      <td>4/18/2025 9:59</td>\n",
       "    </tr>\n",
       "    <tr>\n",
       "      <th>1</th>\n",
       "      <td>2</td>\n",
       "      <td>1769</td>\n",
       "      <td>206</td>\n",
       "      <td>4/5/2025 2:20</td>\n",
       "      <td>4/5/2025 2:38</td>\n",
       "    </tr>\n",
       "    <tr>\n",
       "      <th>2</th>\n",
       "      <td>3</td>\n",
       "      <td>1299</td>\n",
       "      <td>215</td>\n",
       "      <td>6/4/2025 2:45</td>\n",
       "      <td>6/4/2025 2:28</td>\n",
       "    </tr>\n",
       "    <tr>\n",
       "      <th>3</th>\n",
       "      <td>4</td>\n",
       "      <td>3078</td>\n",
       "      <td>160</td>\n",
       "      <td>6/17/2025 15:11</td>\n",
       "      <td>6/17/2025 16:01</td>\n",
       "    </tr>\n",
       "    <tr>\n",
       "      <th>4</th>\n",
       "      <td>5</td>\n",
       "      <td>3606</td>\n",
       "      <td>264</td>\n",
       "      <td>5/8/2025 21:19</td>\n",
       "      <td>5/8/2025 23:09</td>\n",
       "    </tr>\n",
       "  </tbody>\n",
       "</table>\n",
       "</div>"
      ],
      "text/plain": [
       "   id_sesion  id_jugador  id_juego     fecha_inicio        fecha_fin\n",
       "0          1        4234       221   4/18/2025 9:46   4/18/2025 9:59\n",
       "1          2        1769       206    4/5/2025 2:20    4/5/2025 2:38\n",
       "2          3        1299       215    6/4/2025 2:45    6/4/2025 2:28\n",
       "3          4        3078       160  6/17/2025 15:11  6/17/2025 16:01\n",
       "4          5        3606       264   5/8/2025 21:19   5/8/2025 23:09"
      ]
     },
     "execution_count": 67,
     "metadata": {},
     "output_type": "execute_result"
    }
   ],
   "source": [
    "sesiones.head()"
   ]
  },
  {
   "cell_type": "code",
   "execution_count": 68,
   "id": "35f7b166",
   "metadata": {},
   "outputs": [
    {
     "data": {
      "text/plain": [
       "(29999, 5)"
      ]
     },
     "execution_count": 68,
     "metadata": {},
     "output_type": "execute_result"
    }
   ],
   "source": [
    "sesiones.shape"
   ]
  },
  {
   "cell_type": "code",
   "execution_count": 69,
   "id": "3684d66b",
   "metadata": {},
   "outputs": [
    {
     "data": {
      "text/plain": [
       "id_sesion        int64\n",
       "id_jugador       int64\n",
       "id_juego         int64\n",
       "fecha_inicio    object\n",
       "fecha_fin       object\n",
       "dtype: object"
      ]
     },
     "execution_count": 69,
     "metadata": {},
     "output_type": "execute_result"
    }
   ],
   "source": [
    "sesiones.dtypes"
   ]
  },
  {
   "cell_type": "code",
   "execution_count": 70,
   "id": "2070ce2d",
   "metadata": {},
   "outputs": [],
   "source": [
    "sesiones[\"fecha_inicio\"] = pd.to_datetime(sesiones[\"fecha_inicio\"])\n",
    "sesiones[\"fecha_fin\"] = pd.to_datetime(sesiones[\"fecha_fin\"])"
   ]
  },
  {
   "cell_type": "code",
   "execution_count": 71,
   "id": "246b0572",
   "metadata": {},
   "outputs": [],
   "source": [
    "sesiones[\"duracion\"] = sesiones[\"fecha_fin\"]-sesiones[\"fecha_inicio\"]"
   ]
  },
  {
   "cell_type": "code",
   "execution_count": 72,
   "id": "658c59a3",
   "metadata": {},
   "outputs": [
    {
     "data": {
      "text/html": [
       "<div>\n",
       "<style scoped>\n",
       "    .dataframe tbody tr th:only-of-type {\n",
       "        vertical-align: middle;\n",
       "    }\n",
       "\n",
       "    .dataframe tbody tr th {\n",
       "        vertical-align: top;\n",
       "    }\n",
       "\n",
       "    .dataframe thead th {\n",
       "        text-align: right;\n",
       "    }\n",
       "</style>\n",
       "<table border=\"1\" class=\"dataframe\">\n",
       "  <thead>\n",
       "    <tr style=\"text-align: right;\">\n",
       "      <th></th>\n",
       "      <th>id_sesion</th>\n",
       "      <th>id_jugador</th>\n",
       "      <th>id_juego</th>\n",
       "      <th>fecha_inicio</th>\n",
       "      <th>fecha_fin</th>\n",
       "      <th>duracion</th>\n",
       "    </tr>\n",
       "  </thead>\n",
       "  <tbody>\n",
       "    <tr>\n",
       "      <th>0</th>\n",
       "      <td>1</td>\n",
       "      <td>4234</td>\n",
       "      <td>221</td>\n",
       "      <td>2025-04-18 09:46:00</td>\n",
       "      <td>2025-04-18 09:59:00</td>\n",
       "      <td>0 days 00:13:00</td>\n",
       "    </tr>\n",
       "    <tr>\n",
       "      <th>1</th>\n",
       "      <td>2</td>\n",
       "      <td>1769</td>\n",
       "      <td>206</td>\n",
       "      <td>2025-04-05 02:20:00</td>\n",
       "      <td>2025-04-05 02:38:00</td>\n",
       "      <td>0 days 00:18:00</td>\n",
       "    </tr>\n",
       "    <tr>\n",
       "      <th>2</th>\n",
       "      <td>3</td>\n",
       "      <td>1299</td>\n",
       "      <td>215</td>\n",
       "      <td>2025-06-04 02:45:00</td>\n",
       "      <td>2025-06-04 02:28:00</td>\n",
       "      <td>-1 days +23:43:00</td>\n",
       "    </tr>\n",
       "    <tr>\n",
       "      <th>3</th>\n",
       "      <td>4</td>\n",
       "      <td>3078</td>\n",
       "      <td>160</td>\n",
       "      <td>2025-06-17 15:11:00</td>\n",
       "      <td>2025-06-17 16:01:00</td>\n",
       "      <td>0 days 00:50:00</td>\n",
       "    </tr>\n",
       "    <tr>\n",
       "      <th>4</th>\n",
       "      <td>5</td>\n",
       "      <td>3606</td>\n",
       "      <td>264</td>\n",
       "      <td>2025-05-08 21:19:00</td>\n",
       "      <td>2025-05-08 23:09:00</td>\n",
       "      <td>0 days 01:50:00</td>\n",
       "    </tr>\n",
       "  </tbody>\n",
       "</table>\n",
       "</div>"
      ],
      "text/plain": [
       "   id_sesion  id_jugador  id_juego        fecha_inicio           fecha_fin  \\\n",
       "0          1        4234       221 2025-04-18 09:46:00 2025-04-18 09:59:00   \n",
       "1          2        1769       206 2025-04-05 02:20:00 2025-04-05 02:38:00   \n",
       "2          3        1299       215 2025-06-04 02:45:00 2025-06-04 02:28:00   \n",
       "3          4        3078       160 2025-06-17 15:11:00 2025-06-17 16:01:00   \n",
       "4          5        3606       264 2025-05-08 21:19:00 2025-05-08 23:09:00   \n",
       "\n",
       "           duracion  \n",
       "0   0 days 00:13:00  \n",
       "1   0 days 00:18:00  \n",
       "2 -1 days +23:43:00  \n",
       "3   0 days 00:50:00  \n",
       "4   0 days 01:50:00  "
      ]
     },
     "execution_count": 72,
     "metadata": {},
     "output_type": "execute_result"
    }
   ],
   "source": [
    "sesiones.head()"
   ]
  },
  {
   "cell_type": "code",
   "execution_count": 73,
   "id": "700a3daf",
   "metadata": {},
   "outputs": [
    {
     "data": {
      "text/html": [
       "<div>\n",
       "<style scoped>\n",
       "    .dataframe tbody tr th:only-of-type {\n",
       "        vertical-align: middle;\n",
       "    }\n",
       "\n",
       "    .dataframe tbody tr th {\n",
       "        vertical-align: top;\n",
       "    }\n",
       "\n",
       "    .dataframe thead th {\n",
       "        text-align: right;\n",
       "    }\n",
       "</style>\n",
       "<table border=\"1\" class=\"dataframe\">\n",
       "  <thead>\n",
       "    <tr style=\"text-align: right;\">\n",
       "      <th></th>\n",
       "      <th>id_sesion</th>\n",
       "      <th>id_jugador</th>\n",
       "      <th>id_juego</th>\n",
       "      <th>fecha_inicio</th>\n",
       "      <th>fecha_fin</th>\n",
       "      <th>duracion</th>\n",
       "    </tr>\n",
       "  </thead>\n",
       "  <tbody>\n",
       "    <tr>\n",
       "      <th>2</th>\n",
       "      <td>3</td>\n",
       "      <td>1299</td>\n",
       "      <td>215</td>\n",
       "      <td>2025-06-04 02:45:00</td>\n",
       "      <td>2025-06-04 02:28:00</td>\n",
       "      <td>-1 days +23:43:00</td>\n",
       "    </tr>\n",
       "    <tr>\n",
       "      <th>39</th>\n",
       "      <td>40</td>\n",
       "      <td>1509</td>\n",
       "      <td>161</td>\n",
       "      <td>2025-05-06 18:42:00</td>\n",
       "      <td>2025-05-06 18:28:00</td>\n",
       "      <td>-1 days +23:46:00</td>\n",
       "    </tr>\n",
       "    <tr>\n",
       "      <th>49</th>\n",
       "      <td>50</td>\n",
       "      <td>2642</td>\n",
       "      <td>175</td>\n",
       "      <td>2025-06-13 21:11:00</td>\n",
       "      <td>2025-06-13 20:55:00</td>\n",
       "      <td>-1 days +23:44:00</td>\n",
       "    </tr>\n",
       "    <tr>\n",
       "      <th>51</th>\n",
       "      <td>52</td>\n",
       "      <td>840</td>\n",
       "      <td>123</td>\n",
       "      <td>2025-04-02 19:22:00</td>\n",
       "      <td>2025-04-02 18:59:00</td>\n",
       "      <td>-1 days +23:37:00</td>\n",
       "    </tr>\n",
       "    <tr>\n",
       "      <th>56</th>\n",
       "      <td>57</td>\n",
       "      <td>506</td>\n",
       "      <td>122</td>\n",
       "      <td>2025-03-31 03:17:00</td>\n",
       "      <td>2025-03-31 03:09:00</td>\n",
       "      <td>-1 days +23:52:00</td>\n",
       "    </tr>\n",
       "    <tr>\n",
       "      <th>...</th>\n",
       "      <td>...</td>\n",
       "      <td>...</td>\n",
       "      <td>...</td>\n",
       "      <td>...</td>\n",
       "      <td>...</td>\n",
       "      <td>...</td>\n",
       "    </tr>\n",
       "    <tr>\n",
       "      <th>29975</th>\n",
       "      <td>29976</td>\n",
       "      <td>2055</td>\n",
       "      <td>54</td>\n",
       "      <td>2025-04-17 13:29:00</td>\n",
       "      <td>2025-04-17 13:15:00</td>\n",
       "      <td>-1 days +23:46:00</td>\n",
       "    </tr>\n",
       "    <tr>\n",
       "      <th>29989</th>\n",
       "      <td>29990</td>\n",
       "      <td>4180</td>\n",
       "      <td>75</td>\n",
       "      <td>2025-05-14 00:36:00</td>\n",
       "      <td>2025-05-14 00:24:00</td>\n",
       "      <td>-1 days +23:48:00</td>\n",
       "    </tr>\n",
       "    <tr>\n",
       "      <th>29991</th>\n",
       "      <td>29992</td>\n",
       "      <td>3424</td>\n",
       "      <td>64</td>\n",
       "      <td>2025-06-12 08:27:00</td>\n",
       "      <td>2025-06-12 08:24:00</td>\n",
       "      <td>-1 days +23:57:00</td>\n",
       "    </tr>\n",
       "    <tr>\n",
       "      <th>29994</th>\n",
       "      <td>29995</td>\n",
       "      <td>1722</td>\n",
       "      <td>203</td>\n",
       "      <td>2025-04-27 22:49:00</td>\n",
       "      <td>2025-04-27 22:45:00</td>\n",
       "      <td>-1 days +23:56:00</td>\n",
       "    </tr>\n",
       "    <tr>\n",
       "      <th>29996</th>\n",
       "      <td>29997</td>\n",
       "      <td>920</td>\n",
       "      <td>165</td>\n",
       "      <td>2025-06-09 09:38:00</td>\n",
       "      <td>2025-06-09 09:29:00</td>\n",
       "      <td>-1 days +23:51:00</td>\n",
       "    </tr>\n",
       "  </tbody>\n",
       "</table>\n",
       "<p>4325 rows × 6 columns</p>\n",
       "</div>"
      ],
      "text/plain": [
       "       id_sesion  id_jugador  id_juego        fecha_inicio  \\\n",
       "2              3        1299       215 2025-06-04 02:45:00   \n",
       "39            40        1509       161 2025-05-06 18:42:00   \n",
       "49            50        2642       175 2025-06-13 21:11:00   \n",
       "51            52         840       123 2025-04-02 19:22:00   \n",
       "56            57         506       122 2025-03-31 03:17:00   \n",
       "...          ...         ...       ...                 ...   \n",
       "29975      29976        2055        54 2025-04-17 13:29:00   \n",
       "29989      29990        4180        75 2025-05-14 00:36:00   \n",
       "29991      29992        3424        64 2025-06-12 08:27:00   \n",
       "29994      29995        1722       203 2025-04-27 22:49:00   \n",
       "29996      29997         920       165 2025-06-09 09:38:00   \n",
       "\n",
       "                fecha_fin          duracion  \n",
       "2     2025-06-04 02:28:00 -1 days +23:43:00  \n",
       "39    2025-05-06 18:28:00 -1 days +23:46:00  \n",
       "49    2025-06-13 20:55:00 -1 days +23:44:00  \n",
       "51    2025-04-02 18:59:00 -1 days +23:37:00  \n",
       "56    2025-03-31 03:09:00 -1 days +23:52:00  \n",
       "...                   ...               ...  \n",
       "29975 2025-04-17 13:15:00 -1 days +23:46:00  \n",
       "29989 2025-05-14 00:24:00 -1 days +23:48:00  \n",
       "29991 2025-06-12 08:24:00 -1 days +23:57:00  \n",
       "29994 2025-04-27 22:45:00 -1 days +23:56:00  \n",
       "29996 2025-06-09 09:29:00 -1 days +23:51:00  \n",
       "\n",
       "[4325 rows x 6 columns]"
      ]
     },
     "execution_count": 73,
     "metadata": {},
     "output_type": "execute_result"
    }
   ],
   "source": [
    "sesiones[sesiones['duracion'] < pd.Timedelta(0)]\n"
   ]
  },
  {
   "cell_type": "code",
   "execution_count": 74,
   "id": "08e94684",
   "metadata": {},
   "outputs": [
    {
     "data": {
      "text/html": [
       "<div>\n",
       "<style scoped>\n",
       "    .dataframe tbody tr th:only-of-type {\n",
       "        vertical-align: middle;\n",
       "    }\n",
       "\n",
       "    .dataframe tbody tr th {\n",
       "        vertical-align: top;\n",
       "    }\n",
       "\n",
       "    .dataframe thead th {\n",
       "        text-align: right;\n",
       "    }\n",
       "</style>\n",
       "<table border=\"1\" class=\"dataframe\">\n",
       "  <thead>\n",
       "    <tr style=\"text-align: right;\">\n",
       "      <th></th>\n",
       "      <th>id_sesion</th>\n",
       "      <th>id_jugador</th>\n",
       "      <th>id_juego</th>\n",
       "      <th>fecha_inicio</th>\n",
       "      <th>fecha_fin</th>\n",
       "      <th>duracion</th>\n",
       "    </tr>\n",
       "  </thead>\n",
       "  <tbody>\n",
       "    <tr>\n",
       "      <th>160</th>\n",
       "      <td>161</td>\n",
       "      <td>4505</td>\n",
       "      <td>64</td>\n",
       "      <td>2025-05-05 13:28:00</td>\n",
       "      <td>2025-05-05 14:10:00</td>\n",
       "      <td>0 days 00:42:00</td>\n",
       "    </tr>\n",
       "    <tr>\n",
       "      <th>419</th>\n",
       "      <td>420</td>\n",
       "      <td>4550</td>\n",
       "      <td>64</td>\n",
       "      <td>2025-06-02 05:46:00</td>\n",
       "      <td>2025-06-02 08:23:00</td>\n",
       "      <td>0 days 02:37:00</td>\n",
       "    </tr>\n",
       "    <tr>\n",
       "      <th>554</th>\n",
       "      <td>555</td>\n",
       "      <td>367</td>\n",
       "      <td>64</td>\n",
       "      <td>2025-06-05 16:31:00</td>\n",
       "      <td>2025-06-05 18:32:00</td>\n",
       "      <td>0 days 02:01:00</td>\n",
       "    </tr>\n",
       "    <tr>\n",
       "      <th>1147</th>\n",
       "      <td>1148</td>\n",
       "      <td>2217</td>\n",
       "      <td>64</td>\n",
       "      <td>2025-05-19 13:20:00</td>\n",
       "      <td>2025-05-19 14:48:00</td>\n",
       "      <td>0 days 01:28:00</td>\n",
       "    </tr>\n",
       "    <tr>\n",
       "      <th>1343</th>\n",
       "      <td>1344</td>\n",
       "      <td>3544</td>\n",
       "      <td>64</td>\n",
       "      <td>2025-04-17 18:32:00</td>\n",
       "      <td>2025-04-17 19:29:00</td>\n",
       "      <td>0 days 00:57:00</td>\n",
       "    </tr>\n",
       "    <tr>\n",
       "      <th>...</th>\n",
       "      <td>...</td>\n",
       "      <td>...</td>\n",
       "      <td>...</td>\n",
       "      <td>...</td>\n",
       "      <td>...</td>\n",
       "      <td>...</td>\n",
       "    </tr>\n",
       "    <tr>\n",
       "      <th>28595</th>\n",
       "      <td>28596</td>\n",
       "      <td>809</td>\n",
       "      <td>64</td>\n",
       "      <td>2025-05-28 03:53:00</td>\n",
       "      <td>2025-05-28 06:21:00</td>\n",
       "      <td>0 days 02:28:00</td>\n",
       "    </tr>\n",
       "    <tr>\n",
       "      <th>29076</th>\n",
       "      <td>29077</td>\n",
       "      <td>2142</td>\n",
       "      <td>64</td>\n",
       "      <td>2025-04-04 13:36:00</td>\n",
       "      <td>2025-04-04 15:01:00</td>\n",
       "      <td>0 days 01:25:00</td>\n",
       "    </tr>\n",
       "    <tr>\n",
       "      <th>29241</th>\n",
       "      <td>29242</td>\n",
       "      <td>4695</td>\n",
       "      <td>64</td>\n",
       "      <td>2025-05-31 17:18:00</td>\n",
       "      <td>2025-05-31 19:58:00</td>\n",
       "      <td>0 days 02:40:00</td>\n",
       "    </tr>\n",
       "    <tr>\n",
       "      <th>29843</th>\n",
       "      <td>29844</td>\n",
       "      <td>573</td>\n",
       "      <td>64</td>\n",
       "      <td>2025-04-24 13:00:00</td>\n",
       "      <td>2025-04-24 13:49:00</td>\n",
       "      <td>0 days 00:49:00</td>\n",
       "    </tr>\n",
       "    <tr>\n",
       "      <th>29991</th>\n",
       "      <td>29992</td>\n",
       "      <td>3424</td>\n",
       "      <td>64</td>\n",
       "      <td>2025-06-12 08:27:00</td>\n",
       "      <td>2025-06-12 08:24:00</td>\n",
       "      <td>-1 days +23:57:00</td>\n",
       "    </tr>\n",
       "  </tbody>\n",
       "</table>\n",
       "<p>84 rows × 6 columns</p>\n",
       "</div>"
      ],
      "text/plain": [
       "       id_sesion  id_jugador  id_juego        fecha_inicio  \\\n",
       "160          161        4505        64 2025-05-05 13:28:00   \n",
       "419          420        4550        64 2025-06-02 05:46:00   \n",
       "554          555         367        64 2025-06-05 16:31:00   \n",
       "1147        1148        2217        64 2025-05-19 13:20:00   \n",
       "1343        1344        3544        64 2025-04-17 18:32:00   \n",
       "...          ...         ...       ...                 ...   \n",
       "28595      28596         809        64 2025-05-28 03:53:00   \n",
       "29076      29077        2142        64 2025-04-04 13:36:00   \n",
       "29241      29242        4695        64 2025-05-31 17:18:00   \n",
       "29843      29844         573        64 2025-04-24 13:00:00   \n",
       "29991      29992        3424        64 2025-06-12 08:27:00   \n",
       "\n",
       "                fecha_fin          duracion  \n",
       "160   2025-05-05 14:10:00   0 days 00:42:00  \n",
       "419   2025-06-02 08:23:00   0 days 02:37:00  \n",
       "554   2025-06-05 18:32:00   0 days 02:01:00  \n",
       "1147  2025-05-19 14:48:00   0 days 01:28:00  \n",
       "1343  2025-04-17 19:29:00   0 days 00:57:00  \n",
       "...                   ...               ...  \n",
       "28595 2025-05-28 06:21:00   0 days 02:28:00  \n",
       "29076 2025-04-04 15:01:00   0 days 01:25:00  \n",
       "29241 2025-05-31 19:58:00   0 days 02:40:00  \n",
       "29843 2025-04-24 13:49:00   0 days 00:49:00  \n",
       "29991 2025-06-12 08:24:00 -1 days +23:57:00  \n",
       "\n",
       "[84 rows x 6 columns]"
      ]
     },
     "execution_count": 74,
     "metadata": {},
     "output_type": "execute_result"
    }
   ],
   "source": [
    "#ejemplo para ver media de duración, evidentemente la fecha no está invertida, es error\n",
    "sesiones[sesiones[\"id_juego\"]==64]"
   ]
  },
  {
   "cell_type": "code",
   "execution_count": 75,
   "id": "02d3ce52",
   "metadata": {},
   "outputs": [],
   "source": [
    "#There are 4500 bad data, I'm going to create a new data frame to analyze only \n",
    "#the durations of valid sessions, and I will use this data frame only to see the \n",
    "#number of sessions without taking into account the duration of the same, so I can\n",
    "#rescue as much as I can from those 4500 data."
   ]
  },
  {
   "cell_type": "code",
   "execution_count": 76,
   "id": "6d2674c3",
   "metadata": {},
   "outputs": [],
   "source": [
    "duracion_sesiones=sesiones.copy()\n",
    "duracion_sesiones=duracion_sesiones[duracion_sesiones[\"duracion\"]>=pd.Timedelta(0)]"
   ]
  },
  {
   "cell_type": "code",
   "execution_count": 77,
   "id": "4814fb80",
   "metadata": {},
   "outputs": [],
   "source": [
    "duracion_sesiones.to_csv(\"duracion_sesiones.csv\", index=False)"
   ]
  },
  {
   "cell_type": "code",
   "execution_count": 78,
   "id": "55a010b0",
   "metadata": {},
   "outputs": [
    {
     "data": {
      "text/html": [
       "<div>\n",
       "<style scoped>\n",
       "    .dataframe tbody tr th:only-of-type {\n",
       "        vertical-align: middle;\n",
       "    }\n",
       "\n",
       "    .dataframe tbody tr th {\n",
       "        vertical-align: top;\n",
       "    }\n",
       "\n",
       "    .dataframe thead th {\n",
       "        text-align: right;\n",
       "    }\n",
       "</style>\n",
       "<table border=\"1\" class=\"dataframe\">\n",
       "  <thead>\n",
       "    <tr style=\"text-align: right;\">\n",
       "      <th></th>\n",
       "      <th>id_sesion</th>\n",
       "      <th>id_jugador</th>\n",
       "      <th>id_juego</th>\n",
       "      <th>fecha_inicio</th>\n",
       "      <th>fecha_fin</th>\n",
       "      <th>duracion</th>\n",
       "      <th>fecha</th>\n",
       "    </tr>\n",
       "  </thead>\n",
       "  <tbody>\n",
       "    <tr>\n",
       "      <th>0</th>\n",
       "      <td>1</td>\n",
       "      <td>4234</td>\n",
       "      <td>221</td>\n",
       "      <td>2025-04-18 09:46:00</td>\n",
       "      <td>2025-04-18 09:59:00</td>\n",
       "      <td>0 days 00:13:00</td>\n",
       "      <td>2025-04-18</td>\n",
       "    </tr>\n",
       "    <tr>\n",
       "      <th>1</th>\n",
       "      <td>2</td>\n",
       "      <td>1769</td>\n",
       "      <td>206</td>\n",
       "      <td>2025-04-05 02:20:00</td>\n",
       "      <td>2025-04-05 02:38:00</td>\n",
       "      <td>0 days 00:18:00</td>\n",
       "      <td>2025-04-05</td>\n",
       "    </tr>\n",
       "    <tr>\n",
       "      <th>2</th>\n",
       "      <td>3</td>\n",
       "      <td>1299</td>\n",
       "      <td>215</td>\n",
       "      <td>2025-06-04 02:45:00</td>\n",
       "      <td>2025-06-04 02:28:00</td>\n",
       "      <td>-1 days +23:43:00</td>\n",
       "      <td>2025-06-04</td>\n",
       "    </tr>\n",
       "    <tr>\n",
       "      <th>3</th>\n",
       "      <td>4</td>\n",
       "      <td>3078</td>\n",
       "      <td>160</td>\n",
       "      <td>2025-06-17 15:11:00</td>\n",
       "      <td>2025-06-17 16:01:00</td>\n",
       "      <td>0 days 00:50:00</td>\n",
       "      <td>2025-06-17</td>\n",
       "    </tr>\n",
       "    <tr>\n",
       "      <th>4</th>\n",
       "      <td>5</td>\n",
       "      <td>3606</td>\n",
       "      <td>264</td>\n",
       "      <td>2025-05-08 21:19:00</td>\n",
       "      <td>2025-05-08 23:09:00</td>\n",
       "      <td>0 days 01:50:00</td>\n",
       "      <td>2025-05-08</td>\n",
       "    </tr>\n",
       "  </tbody>\n",
       "</table>\n",
       "</div>"
      ],
      "text/plain": [
       "   id_sesion  id_jugador  id_juego        fecha_inicio           fecha_fin  \\\n",
       "0          1        4234       221 2025-04-18 09:46:00 2025-04-18 09:59:00   \n",
       "1          2        1769       206 2025-04-05 02:20:00 2025-04-05 02:38:00   \n",
       "2          3        1299       215 2025-06-04 02:45:00 2025-06-04 02:28:00   \n",
       "3          4        3078       160 2025-06-17 15:11:00 2025-06-17 16:01:00   \n",
       "4          5        3606       264 2025-05-08 21:19:00 2025-05-08 23:09:00   \n",
       "\n",
       "           duracion       fecha  \n",
       "0   0 days 00:13:00  2025-04-18  \n",
       "1   0 days 00:18:00  2025-04-05  \n",
       "2 -1 days +23:43:00  2025-06-04  \n",
       "3   0 days 00:50:00  2025-06-17  \n",
       "4   0 days 01:50:00  2025-05-08  "
      ]
     },
     "execution_count": 78,
     "metadata": {},
     "output_type": "execute_result"
    }
   ],
   "source": [
    "sesiones[\"fecha\"]=sesiones[\"fecha_inicio\"].dt.date\n",
    "sesiones.head()"
   ]
  },
  {
   "cell_type": "code",
   "execution_count": 79,
   "id": "1df68b74",
   "metadata": {},
   "outputs": [],
   "source": [
    "sesiones=sesiones.drop(columns=[\"fecha_inicio\", \"fecha_fin\", \"duracion\"])"
   ]
  },
  {
   "cell_type": "code",
   "execution_count": 80,
   "id": "c0f76b6d",
   "metadata": {},
   "outputs": [
    {
     "data": {
      "text/html": [
       "<div>\n",
       "<style scoped>\n",
       "    .dataframe tbody tr th:only-of-type {\n",
       "        vertical-align: middle;\n",
       "    }\n",
       "\n",
       "    .dataframe tbody tr th {\n",
       "        vertical-align: top;\n",
       "    }\n",
       "\n",
       "    .dataframe thead th {\n",
       "        text-align: right;\n",
       "    }\n",
       "</style>\n",
       "<table border=\"1\" class=\"dataframe\">\n",
       "  <thead>\n",
       "    <tr style=\"text-align: right;\">\n",
       "      <th></th>\n",
       "      <th>id_sesion</th>\n",
       "      <th>id_jugador</th>\n",
       "      <th>id_juego</th>\n",
       "      <th>fecha</th>\n",
       "    </tr>\n",
       "  </thead>\n",
       "  <tbody>\n",
       "    <tr>\n",
       "      <th>0</th>\n",
       "      <td>1</td>\n",
       "      <td>4234</td>\n",
       "      <td>221</td>\n",
       "      <td>2025-04-18</td>\n",
       "    </tr>\n",
       "    <tr>\n",
       "      <th>1</th>\n",
       "      <td>2</td>\n",
       "      <td>1769</td>\n",
       "      <td>206</td>\n",
       "      <td>2025-04-05</td>\n",
       "    </tr>\n",
       "    <tr>\n",
       "      <th>2</th>\n",
       "      <td>3</td>\n",
       "      <td>1299</td>\n",
       "      <td>215</td>\n",
       "      <td>2025-06-04</td>\n",
       "    </tr>\n",
       "    <tr>\n",
       "      <th>3</th>\n",
       "      <td>4</td>\n",
       "      <td>3078</td>\n",
       "      <td>160</td>\n",
       "      <td>2025-06-17</td>\n",
       "    </tr>\n",
       "    <tr>\n",
       "      <th>4</th>\n",
       "      <td>5</td>\n",
       "      <td>3606</td>\n",
       "      <td>264</td>\n",
       "      <td>2025-05-08</td>\n",
       "    </tr>\n",
       "  </tbody>\n",
       "</table>\n",
       "</div>"
      ],
      "text/plain": [
       "   id_sesion  id_jugador  id_juego       fecha\n",
       "0          1        4234       221  2025-04-18\n",
       "1          2        1769       206  2025-04-05\n",
       "2          3        1299       215  2025-06-04\n",
       "3          4        3078       160  2025-06-17\n",
       "4          5        3606       264  2025-05-08"
      ]
     },
     "execution_count": 80,
     "metadata": {},
     "output_type": "execute_result"
    }
   ],
   "source": [
    "sesiones.head()\n"
   ]
  },
  {
   "cell_type": "code",
   "execution_count": 81,
   "id": "a0b49493",
   "metadata": {},
   "outputs": [
    {
     "data": {
      "text/html": [
       "<div>\n",
       "<style scoped>\n",
       "    .dataframe tbody tr th:only-of-type {\n",
       "        vertical-align: middle;\n",
       "    }\n",
       "\n",
       "    .dataframe tbody tr th {\n",
       "        vertical-align: top;\n",
       "    }\n",
       "\n",
       "    .dataframe thead th {\n",
       "        text-align: right;\n",
       "    }\n",
       "</style>\n",
       "<table border=\"1\" class=\"dataframe\">\n",
       "  <thead>\n",
       "    <tr style=\"text-align: right;\">\n",
       "      <th></th>\n",
       "      <th>id_sesion</th>\n",
       "      <th>id_jugador</th>\n",
       "      <th>id_juego</th>\n",
       "      <th>fecha_inicio</th>\n",
       "      <th>fecha_fin</th>\n",
       "      <th>duracion</th>\n",
       "    </tr>\n",
       "  </thead>\n",
       "  <tbody>\n",
       "    <tr>\n",
       "      <th>0</th>\n",
       "      <td>1</td>\n",
       "      <td>4234</td>\n",
       "      <td>221</td>\n",
       "      <td>2025-04-18 09:46:00</td>\n",
       "      <td>2025-04-18 09:59:00</td>\n",
       "      <td>0 days 00:13:00</td>\n",
       "    </tr>\n",
       "    <tr>\n",
       "      <th>1</th>\n",
       "      <td>2</td>\n",
       "      <td>1769</td>\n",
       "      <td>206</td>\n",
       "      <td>2025-04-05 02:20:00</td>\n",
       "      <td>2025-04-05 02:38:00</td>\n",
       "      <td>0 days 00:18:00</td>\n",
       "    </tr>\n",
       "    <tr>\n",
       "      <th>3</th>\n",
       "      <td>4</td>\n",
       "      <td>3078</td>\n",
       "      <td>160</td>\n",
       "      <td>2025-06-17 15:11:00</td>\n",
       "      <td>2025-06-17 16:01:00</td>\n",
       "      <td>0 days 00:50:00</td>\n",
       "    </tr>\n",
       "    <tr>\n",
       "      <th>4</th>\n",
       "      <td>5</td>\n",
       "      <td>3606</td>\n",
       "      <td>264</td>\n",
       "      <td>2025-05-08 21:19:00</td>\n",
       "      <td>2025-05-08 23:09:00</td>\n",
       "      <td>0 days 01:50:00</td>\n",
       "    </tr>\n",
       "    <tr>\n",
       "      <th>5</th>\n",
       "      <td>6</td>\n",
       "      <td>496</td>\n",
       "      <td>309</td>\n",
       "      <td>2025-05-07 17:01:00</td>\n",
       "      <td>2025-05-07 19:25:00</td>\n",
       "      <td>0 days 02:24:00</td>\n",
       "    </tr>\n",
       "  </tbody>\n",
       "</table>\n",
       "</div>"
      ],
      "text/plain": [
       "   id_sesion  id_jugador  id_juego        fecha_inicio           fecha_fin  \\\n",
       "0          1        4234       221 2025-04-18 09:46:00 2025-04-18 09:59:00   \n",
       "1          2        1769       206 2025-04-05 02:20:00 2025-04-05 02:38:00   \n",
       "3          4        3078       160 2025-06-17 15:11:00 2025-06-17 16:01:00   \n",
       "4          5        3606       264 2025-05-08 21:19:00 2025-05-08 23:09:00   \n",
       "5          6         496       309 2025-05-07 17:01:00 2025-05-07 19:25:00   \n",
       "\n",
       "         duracion  \n",
       "0 0 days 00:13:00  \n",
       "1 0 days 00:18:00  \n",
       "3 0 days 00:50:00  \n",
       "4 0 days 01:50:00  \n",
       "5 0 days 02:24:00  "
      ]
     },
     "execution_count": 81,
     "metadata": {},
     "output_type": "execute_result"
    }
   ],
   "source": [
    "duracion_sesiones.head()"
   ]
  },
  {
   "cell_type": "code",
   "execution_count": 82,
   "id": "1029d116",
   "metadata": {},
   "outputs": [
    {
     "data": {
      "text/plain": [
       "id_sesion      int64\n",
       "id_jugador     int64\n",
       "id_juego       int64\n",
       "fecha         object\n",
       "dtype: object"
      ]
     },
     "execution_count": 82,
     "metadata": {},
     "output_type": "execute_result"
    }
   ],
   "source": [
    "sesiones.dtypes"
   ]
  },
  {
   "cell_type": "code",
   "execution_count": 83,
   "id": "c4575cae",
   "metadata": {},
   "outputs": [],
   "source": [
    "sesiones[\"fecha\"]=pd.to_datetime(sesiones[\"fecha\"], errors=\"coerce\")"
   ]
  },
  {
   "cell_type": "code",
   "execution_count": 84,
   "id": "ef054297",
   "metadata": {},
   "outputs": [],
   "source": [
    "sesiones[\"anio\"]=sesiones[\"fecha\"].dt.year\n",
    "sesiones[\"mes\"]=sesiones[\"fecha\"].dt.month"
   ]
  },
  {
   "cell_type": "code",
   "execution_count": 85,
   "id": "11cd5a30",
   "metadata": {},
   "outputs": [],
   "source": [
    "sesiones[\"dia\"]=sesiones[\"fecha\"].dt.day_name()"
   ]
  },
  {
   "cell_type": "code",
   "execution_count": 86,
   "id": "f3af0794",
   "metadata": {},
   "outputs": [
    {
     "data": {
      "text/html": [
       "<div>\n",
       "<style scoped>\n",
       "    .dataframe tbody tr th:only-of-type {\n",
       "        vertical-align: middle;\n",
       "    }\n",
       "\n",
       "    .dataframe tbody tr th {\n",
       "        vertical-align: top;\n",
       "    }\n",
       "\n",
       "    .dataframe thead th {\n",
       "        text-align: right;\n",
       "    }\n",
       "</style>\n",
       "<table border=\"1\" class=\"dataframe\">\n",
       "  <thead>\n",
       "    <tr style=\"text-align: right;\">\n",
       "      <th></th>\n",
       "      <th>id_sesion</th>\n",
       "      <th>id_jugador</th>\n",
       "      <th>id_juego</th>\n",
       "      <th>fecha</th>\n",
       "      <th>anio</th>\n",
       "      <th>mes</th>\n",
       "      <th>dia</th>\n",
       "    </tr>\n",
       "  </thead>\n",
       "  <tbody>\n",
       "    <tr>\n",
       "      <th>0</th>\n",
       "      <td>1</td>\n",
       "      <td>4234</td>\n",
       "      <td>221</td>\n",
       "      <td>2025-04-18</td>\n",
       "      <td>2025</td>\n",
       "      <td>4</td>\n",
       "      <td>Friday</td>\n",
       "    </tr>\n",
       "    <tr>\n",
       "      <th>1</th>\n",
       "      <td>2</td>\n",
       "      <td>1769</td>\n",
       "      <td>206</td>\n",
       "      <td>2025-04-05</td>\n",
       "      <td>2025</td>\n",
       "      <td>4</td>\n",
       "      <td>Saturday</td>\n",
       "    </tr>\n",
       "    <tr>\n",
       "      <th>2</th>\n",
       "      <td>3</td>\n",
       "      <td>1299</td>\n",
       "      <td>215</td>\n",
       "      <td>2025-06-04</td>\n",
       "      <td>2025</td>\n",
       "      <td>6</td>\n",
       "      <td>Wednesday</td>\n",
       "    </tr>\n",
       "    <tr>\n",
       "      <th>3</th>\n",
       "      <td>4</td>\n",
       "      <td>3078</td>\n",
       "      <td>160</td>\n",
       "      <td>2025-06-17</td>\n",
       "      <td>2025</td>\n",
       "      <td>6</td>\n",
       "      <td>Tuesday</td>\n",
       "    </tr>\n",
       "    <tr>\n",
       "      <th>4</th>\n",
       "      <td>5</td>\n",
       "      <td>3606</td>\n",
       "      <td>264</td>\n",
       "      <td>2025-05-08</td>\n",
       "      <td>2025</td>\n",
       "      <td>5</td>\n",
       "      <td>Thursday</td>\n",
       "    </tr>\n",
       "  </tbody>\n",
       "</table>\n",
       "</div>"
      ],
      "text/plain": [
       "   id_sesion  id_jugador  id_juego      fecha  anio  mes        dia\n",
       "0          1        4234       221 2025-04-18  2025    4     Friday\n",
       "1          2        1769       206 2025-04-05  2025    4   Saturday\n",
       "2          3        1299       215 2025-06-04  2025    6  Wednesday\n",
       "3          4        3078       160 2025-06-17  2025    6    Tuesday\n",
       "4          5        3606       264 2025-05-08  2025    5   Thursday"
      ]
     },
     "execution_count": 86,
     "metadata": {},
     "output_type": "execute_result"
    }
   ],
   "source": [
    "sesiones.head()"
   ]
  },
  {
   "cell_type": "code",
   "execution_count": 87,
   "id": "d33e2980",
   "metadata": {},
   "outputs": [
    {
     "data": {
      "text/plain": [
       "array([2025], dtype=int32)"
      ]
     },
     "execution_count": 87,
     "metadata": {},
     "output_type": "execute_result"
    }
   ],
   "source": [
    "sesiones[\"anio\"].unique()"
   ]
  },
  {
   "cell_type": "markdown",
   "id": "c4626bc1",
   "metadata": {},
   "source": [
    "# Puntuaciones"
   ]
  },
  {
   "cell_type": "code",
   "execution_count": 88,
   "id": "3d647c7a",
   "metadata": {},
   "outputs": [
    {
     "data": {
      "text/html": [
       "<div>\n",
       "<style scoped>\n",
       "    .dataframe tbody tr th:only-of-type {\n",
       "        vertical-align: middle;\n",
       "    }\n",
       "\n",
       "    .dataframe tbody tr th {\n",
       "        vertical-align: top;\n",
       "    }\n",
       "\n",
       "    .dataframe thead th {\n",
       "        text-align: right;\n",
       "    }\n",
       "</style>\n",
       "<table border=\"1\" class=\"dataframe\">\n",
       "  <thead>\n",
       "    <tr style=\"text-align: right;\">\n",
       "      <th></th>\n",
       "      <th>id_jugador</th>\n",
       "      <th>id_juego</th>\n",
       "      <th>puntuacion</th>\n",
       "      <th>fecha</th>\n",
       "    </tr>\n",
       "  </thead>\n",
       "  <tbody>\n",
       "    <tr>\n",
       "      <th>0</th>\n",
       "      <td>62</td>\n",
       "      <td>296</td>\n",
       "      <td>5.0</td>\n",
       "      <td>10/31/2024</td>\n",
       "    </tr>\n",
       "    <tr>\n",
       "      <th>1</th>\n",
       "      <td>1336</td>\n",
       "      <td>296</td>\n",
       "      <td>NaN</td>\n",
       "      <td>4/15/2025</td>\n",
       "    </tr>\n",
       "    <tr>\n",
       "      <th>2</th>\n",
       "      <td>2571</td>\n",
       "      <td>61</td>\n",
       "      <td>9.0</td>\n",
       "      <td>10/2/2024</td>\n",
       "    </tr>\n",
       "    <tr>\n",
       "      <th>3</th>\n",
       "      <td>2166</td>\n",
       "      <td>183</td>\n",
       "      <td>10.0</td>\n",
       "      <td>4/29/2025</td>\n",
       "    </tr>\n",
       "    <tr>\n",
       "      <th>4</th>\n",
       "      <td>2901</td>\n",
       "      <td>146</td>\n",
       "      <td>3.0</td>\n",
       "      <td>1/19/2025</td>\n",
       "    </tr>\n",
       "  </tbody>\n",
       "</table>\n",
       "</div>"
      ],
      "text/plain": [
       "   id_jugador  id_juego  puntuacion       fecha\n",
       "0          62       296         5.0  10/31/2024\n",
       "1        1336       296         NaN   4/15/2025\n",
       "2        2571        61         9.0   10/2/2024\n",
       "3        2166       183        10.0   4/29/2025\n",
       "4        2901       146         3.0   1/19/2025"
      ]
     },
     "execution_count": 88,
     "metadata": {},
     "output_type": "execute_result"
    }
   ],
   "source": [
    "puntuaciones.head()"
   ]
  },
  {
   "cell_type": "code",
   "execution_count": 89,
   "id": "1839e309",
   "metadata": {},
   "outputs": [
    {
     "data": {
      "text/plain": [
       "id_jugador      int64\n",
       "id_juego        int64\n",
       "puntuacion    float64\n",
       "fecha          object\n",
       "dtype: object"
      ]
     },
     "execution_count": 89,
     "metadata": {},
     "output_type": "execute_result"
    }
   ],
   "source": [
    "puntuaciones.dtypes"
   ]
  },
  {
   "cell_type": "code",
   "execution_count": 90,
   "id": "7edb6a04",
   "metadata": {},
   "outputs": [],
   "source": [
    "puntuaciones[\"fecha\"] = pd.to_datetime(puntuaciones[\"fecha\"])"
   ]
  },
  {
   "cell_type": "code",
   "execution_count": 91,
   "id": "539ad5d1",
   "metadata": {},
   "outputs": [
    {
     "data": {
      "text/html": [
       "<div>\n",
       "<style scoped>\n",
       "    .dataframe tbody tr th:only-of-type {\n",
       "        vertical-align: middle;\n",
       "    }\n",
       "\n",
       "    .dataframe tbody tr th {\n",
       "        vertical-align: top;\n",
       "    }\n",
       "\n",
       "    .dataframe thead th {\n",
       "        text-align: right;\n",
       "    }\n",
       "</style>\n",
       "<table border=\"1\" class=\"dataframe\">\n",
       "  <thead>\n",
       "    <tr style=\"text-align: right;\">\n",
       "      <th></th>\n",
       "      <th>id_jugador</th>\n",
       "      <th>id_juego</th>\n",
       "      <th>puntuacion</th>\n",
       "      <th>fecha</th>\n",
       "    </tr>\n",
       "  </thead>\n",
       "  <tbody>\n",
       "    <tr>\n",
       "      <th>1</th>\n",
       "      <td>1336</td>\n",
       "      <td>296</td>\n",
       "      <td>NaN</td>\n",
       "      <td>2025-04-15</td>\n",
       "    </tr>\n",
       "    <tr>\n",
       "      <th>14</th>\n",
       "      <td>180</td>\n",
       "      <td>180</td>\n",
       "      <td>NaN</td>\n",
       "      <td>2025-06-12</td>\n",
       "    </tr>\n",
       "    <tr>\n",
       "      <th>25</th>\n",
       "      <td>647</td>\n",
       "      <td>36</td>\n",
       "      <td>NaN</td>\n",
       "      <td>2024-07-20</td>\n",
       "    </tr>\n",
       "    <tr>\n",
       "      <th>27</th>\n",
       "      <td>1673</td>\n",
       "      <td>266</td>\n",
       "      <td>NaN</td>\n",
       "      <td>2024-11-22</td>\n",
       "    </tr>\n",
       "    <tr>\n",
       "      <th>41</th>\n",
       "      <td>1765</td>\n",
       "      <td>294</td>\n",
       "      <td>NaN</td>\n",
       "      <td>2024-09-04</td>\n",
       "    </tr>\n",
       "    <tr>\n",
       "      <th>...</th>\n",
       "      <td>...</td>\n",
       "      <td>...</td>\n",
       "      <td>...</td>\n",
       "      <td>...</td>\n",
       "    </tr>\n",
       "    <tr>\n",
       "      <th>19961</th>\n",
       "      <td>1674</td>\n",
       "      <td>61</td>\n",
       "      <td>NaN</td>\n",
       "      <td>2024-07-22</td>\n",
       "    </tr>\n",
       "    <tr>\n",
       "      <th>19968</th>\n",
       "      <td>3645</td>\n",
       "      <td>152</td>\n",
       "      <td>NaN</td>\n",
       "      <td>2024-06-25</td>\n",
       "    </tr>\n",
       "    <tr>\n",
       "      <th>19975</th>\n",
       "      <td>4731</td>\n",
       "      <td>334</td>\n",
       "      <td>NaN</td>\n",
       "      <td>2024-08-17</td>\n",
       "    </tr>\n",
       "    <tr>\n",
       "      <th>19978</th>\n",
       "      <td>1235</td>\n",
       "      <td>92</td>\n",
       "      <td>NaN</td>\n",
       "      <td>2024-10-15</td>\n",
       "    </tr>\n",
       "    <tr>\n",
       "      <th>19986</th>\n",
       "      <td>3685</td>\n",
       "      <td>114</td>\n",
       "      <td>NaN</td>\n",
       "      <td>2025-04-10</td>\n",
       "    </tr>\n",
       "  </tbody>\n",
       "</table>\n",
       "<p>1978 rows × 4 columns</p>\n",
       "</div>"
      ],
      "text/plain": [
       "       id_jugador  id_juego  puntuacion      fecha\n",
       "1            1336       296         NaN 2025-04-15\n",
       "14            180       180         NaN 2025-06-12\n",
       "25            647        36         NaN 2024-07-20\n",
       "27           1673       266         NaN 2024-11-22\n",
       "41           1765       294         NaN 2024-09-04\n",
       "...           ...       ...         ...        ...\n",
       "19961        1674        61         NaN 2024-07-22\n",
       "19968        3645       152         NaN 2024-06-25\n",
       "19975        4731       334         NaN 2024-08-17\n",
       "19978        1235        92         NaN 2024-10-15\n",
       "19986        3685       114         NaN 2025-04-10\n",
       "\n",
       "[1978 rows x 4 columns]"
      ]
     },
     "execution_count": 91,
     "metadata": {},
     "output_type": "execute_result"
    }
   ],
   "source": [
    "puntuaciones[puntuaciones[\"puntuacion\"].isna()]"
   ]
  },
  {
   "cell_type": "code",
   "execution_count": 92,
   "id": "0d90f911",
   "metadata": {},
   "outputs": [],
   "source": [
    "sin_puntuacion= puntuaciones[puntuaciones[\"puntuacion\"].isna()]"
   ]
  },
  {
   "cell_type": "code",
   "execution_count": 93,
   "id": "10beb229",
   "metadata": {},
   "outputs": [],
   "source": [
    "puntuaciones=puntuaciones.dropna(subset=[\"puntuacion\"])"
   ]
  },
  {
   "cell_type": "code",
   "execution_count": 94,
   "id": "5900cb01",
   "metadata": {},
   "outputs": [
    {
     "data": {
      "text/plain": [
       "(18022, 4)"
      ]
     },
     "execution_count": 94,
     "metadata": {},
     "output_type": "execute_result"
    }
   ],
   "source": [
    "puntuaciones.shape"
   ]
  },
  {
   "cell_type": "markdown",
   "id": "8baac919",
   "metadata": {},
   "source": [
    "# Compras"
   ]
  },
  {
   "cell_type": "code",
   "execution_count": 95,
   "id": "f43f5d9c",
   "metadata": {},
   "outputs": [
    {
     "data": {
      "text/html": [
       "<div>\n",
       "<style scoped>\n",
       "    .dataframe tbody tr th:only-of-type {\n",
       "        vertical-align: middle;\n",
       "    }\n",
       "\n",
       "    .dataframe tbody tr th {\n",
       "        vertical-align: top;\n",
       "    }\n",
       "\n",
       "    .dataframe thead th {\n",
       "        text-align: right;\n",
       "    }\n",
       "</style>\n",
       "<table border=\"1\" class=\"dataframe\">\n",
       "  <thead>\n",
       "    <tr style=\"text-align: right;\">\n",
       "      <th></th>\n",
       "      <th>id_compra</th>\n",
       "      <th>id_jugador</th>\n",
       "      <th>id_juego</th>\n",
       "      <th>monto</th>\n",
       "      <th>fecha</th>\n",
       "    </tr>\n",
       "  </thead>\n",
       "  <tbody>\n",
       "    <tr>\n",
       "      <th>0</th>\n",
       "      <td>7880</td>\n",
       "      <td>2333.0</td>\n",
       "      <td>5</td>\n",
       "      <td>59.99</td>\n",
       "      <td>2/6/2025</td>\n",
       "    </tr>\n",
       "    <tr>\n",
       "      <th>1</th>\n",
       "      <td>3870</td>\n",
       "      <td>4171.0</td>\n",
       "      <td>19</td>\n",
       "      <td>59.98</td>\n",
       "      <td>2/21/2025</td>\n",
       "    </tr>\n",
       "    <tr>\n",
       "      <th>2</th>\n",
       "      <td>4590</td>\n",
       "      <td>4975.0</td>\n",
       "      <td>298</td>\n",
       "      <td>59.98</td>\n",
       "      <td>1/16/2025</td>\n",
       "    </tr>\n",
       "    <tr>\n",
       "      <th>3</th>\n",
       "      <td>7316</td>\n",
       "      <td>4581.0</td>\n",
       "      <td>94</td>\n",
       "      <td>59.97</td>\n",
       "      <td>1/13/2025</td>\n",
       "    </tr>\n",
       "    <tr>\n",
       "      <th>4</th>\n",
       "      <td>3586</td>\n",
       "      <td>1425.0</td>\n",
       "      <td>343</td>\n",
       "      <td>59.95</td>\n",
       "      <td>4/26/2025</td>\n",
       "    </tr>\n",
       "  </tbody>\n",
       "</table>\n",
       "</div>"
      ],
      "text/plain": [
       "   id_compra  id_jugador  id_juego  monto      fecha\n",
       "0       7880      2333.0         5  59.99   2/6/2025\n",
       "1       3870      4171.0        19  59.98  2/21/2025\n",
       "2       4590      4975.0       298  59.98  1/16/2025\n",
       "3       7316      4581.0        94  59.97  1/13/2025\n",
       "4       3586      1425.0       343  59.95  4/26/2025"
      ]
     },
     "execution_count": 95,
     "metadata": {},
     "output_type": "execute_result"
    }
   ],
   "source": [
    "compras.head()"
   ]
  },
  {
   "cell_type": "code",
   "execution_count": 96,
   "id": "3fdf9222",
   "metadata": {},
   "outputs": [
    {
     "data": {
      "text/plain": [
       "id_compra       int64\n",
       "id_jugador    float64\n",
       "id_juego        int64\n",
       "monto         float64\n",
       "fecha          object\n",
       "dtype: object"
      ]
     },
     "execution_count": 96,
     "metadata": {},
     "output_type": "execute_result"
    }
   ],
   "source": [
    "compras.dtypes"
   ]
  },
  {
   "cell_type": "code",
   "execution_count": 97,
   "id": "f35ea643",
   "metadata": {},
   "outputs": [],
   "source": [
    "compras[\"fecha\"] = pd.to_datetime(compras[\"fecha\"])"
   ]
  },
  {
   "cell_type": "code",
   "execution_count": 98,
   "id": "95eef0b4",
   "metadata": {},
   "outputs": [
    {
     "data": {
      "text/plain": [
       "count    7170.000000\n",
       "mean       30.495803\n",
       "std        16.787634\n",
       "min         0.990000\n",
       "25%        16.012500\n",
       "50%        30.435000\n",
       "75%        44.860000\n",
       "max        59.990000\n",
       "Name: monto, dtype: float64"
      ]
     },
     "execution_count": 98,
     "metadata": {},
     "output_type": "execute_result"
    }
   ],
   "source": [
    "compras[\"monto\"].describe()\n"
   ]
  },
  {
   "cell_type": "code",
   "execution_count": 99,
   "id": "5ea7f477",
   "metadata": {},
   "outputs": [
    {
     "data": {
      "text/html": [
       "<div>\n",
       "<style scoped>\n",
       "    .dataframe tbody tr th:only-of-type {\n",
       "        vertical-align: middle;\n",
       "    }\n",
       "\n",
       "    .dataframe tbody tr th {\n",
       "        vertical-align: top;\n",
       "    }\n",
       "\n",
       "    .dataframe thead th {\n",
       "        text-align: right;\n",
       "    }\n",
       "</style>\n",
       "<table border=\"1\" class=\"dataframe\">\n",
       "  <thead>\n",
       "    <tr style=\"text-align: right;\">\n",
       "      <th></th>\n",
       "      <th>id_compra</th>\n",
       "      <th>id_jugador</th>\n",
       "      <th>id_juego</th>\n",
       "      <th>monto</th>\n",
       "      <th>fecha</th>\n",
       "    </tr>\n",
       "  </thead>\n",
       "  <tbody>\n",
       "    <tr>\n",
       "      <th>7169</th>\n",
       "      <td>2766</td>\n",
       "      <td>4194.0</td>\n",
       "      <td>220</td>\n",
       "      <td>0.99</td>\n",
       "      <td>2025-01-10</td>\n",
       "    </tr>\n",
       "    <tr>\n",
       "      <th>7168</th>\n",
       "      <td>5605</td>\n",
       "      <td>4060.0</td>\n",
       "      <td>119</td>\n",
       "      <td>1.02</td>\n",
       "      <td>2025-05-30</td>\n",
       "    </tr>\n",
       "    <tr>\n",
       "      <th>7167</th>\n",
       "      <td>495</td>\n",
       "      <td>666.0</td>\n",
       "      <td>255</td>\n",
       "      <td>1.03</td>\n",
       "      <td>2025-03-25</td>\n",
       "    </tr>\n",
       "    <tr>\n",
       "      <th>7166</th>\n",
       "      <td>4613</td>\n",
       "      <td>925.0</td>\n",
       "      <td>192</td>\n",
       "      <td>1.04</td>\n",
       "      <td>2025-01-14</td>\n",
       "    </tr>\n",
       "    <tr>\n",
       "      <th>7163</th>\n",
       "      <td>2847</td>\n",
       "      <td>1912.0</td>\n",
       "      <td>131</td>\n",
       "      <td>1.05</td>\n",
       "      <td>2025-01-23</td>\n",
       "    </tr>\n",
       "    <tr>\n",
       "      <th>7164</th>\n",
       "      <td>3837</td>\n",
       "      <td>696.0</td>\n",
       "      <td>345</td>\n",
       "      <td>1.05</td>\n",
       "      <td>2025-03-26</td>\n",
       "    </tr>\n",
       "    <tr>\n",
       "      <th>7165</th>\n",
       "      <td>7252</td>\n",
       "      <td>177.0</td>\n",
       "      <td>19</td>\n",
       "      <td>1.05</td>\n",
       "      <td>2025-01-11</td>\n",
       "    </tr>\n",
       "    <tr>\n",
       "      <th>7162</th>\n",
       "      <td>919</td>\n",
       "      <td>1383.0</td>\n",
       "      <td>156</td>\n",
       "      <td>1.07</td>\n",
       "      <td>2025-05-06</td>\n",
       "    </tr>\n",
       "    <tr>\n",
       "      <th>7160</th>\n",
       "      <td>4165</td>\n",
       "      <td>2457.0</td>\n",
       "      <td>259</td>\n",
       "      <td>1.08</td>\n",
       "      <td>2025-04-26</td>\n",
       "    </tr>\n",
       "    <tr>\n",
       "      <th>7161</th>\n",
       "      <td>7778</td>\n",
       "      <td>638.0</td>\n",
       "      <td>228</td>\n",
       "      <td>1.08</td>\n",
       "      <td>2025-04-13</td>\n",
       "    </tr>\n",
       "  </tbody>\n",
       "</table>\n",
       "</div>"
      ],
      "text/plain": [
       "      id_compra  id_jugador  id_juego  monto      fecha\n",
       "7169       2766      4194.0       220   0.99 2025-01-10\n",
       "7168       5605      4060.0       119   1.02 2025-05-30\n",
       "7167        495       666.0       255   1.03 2025-03-25\n",
       "7166       4613       925.0       192   1.04 2025-01-14\n",
       "7163       2847      1912.0       131   1.05 2025-01-23\n",
       "7164       3837       696.0       345   1.05 2025-03-26\n",
       "7165       7252       177.0        19   1.05 2025-01-11\n",
       "7162        919      1383.0       156   1.07 2025-05-06\n",
       "7160       4165      2457.0       259   1.08 2025-04-26\n",
       "7161       7778       638.0       228   1.08 2025-04-13"
      ]
     },
     "execution_count": 99,
     "metadata": {},
     "output_type": "execute_result"
    }
   ],
   "source": [
    "compras.nsmallest(10, \"monto\")"
   ]
  },
  {
   "cell_type": "code",
   "execution_count": 100,
   "id": "bd2a57a1",
   "metadata": {},
   "outputs": [
    {
     "data": {
      "text/html": [
       "<div>\n",
       "<style scoped>\n",
       "    .dataframe tbody tr th:only-of-type {\n",
       "        vertical-align: middle;\n",
       "    }\n",
       "\n",
       "    .dataframe tbody tr th {\n",
       "        vertical-align: top;\n",
       "    }\n",
       "\n",
       "    .dataframe thead th {\n",
       "        text-align: right;\n",
       "    }\n",
       "</style>\n",
       "<table border=\"1\" class=\"dataframe\">\n",
       "  <thead>\n",
       "    <tr style=\"text-align: right;\">\n",
       "      <th></th>\n",
       "      <th>id_compra</th>\n",
       "      <th>id_jugador</th>\n",
       "      <th>id_juego</th>\n",
       "      <th>monto</th>\n",
       "      <th>fecha</th>\n",
       "    </tr>\n",
       "  </thead>\n",
       "  <tbody>\n",
       "    <tr>\n",
       "      <th>0</th>\n",
       "      <td>7880</td>\n",
       "      <td>2333.0</td>\n",
       "      <td>5</td>\n",
       "      <td>59.99</td>\n",
       "      <td>2025-02-06</td>\n",
       "    </tr>\n",
       "    <tr>\n",
       "      <th>1</th>\n",
       "      <td>3870</td>\n",
       "      <td>4171.0</td>\n",
       "      <td>19</td>\n",
       "      <td>59.98</td>\n",
       "      <td>2025-02-21</td>\n",
       "    </tr>\n",
       "    <tr>\n",
       "      <th>2</th>\n",
       "      <td>4590</td>\n",
       "      <td>4975.0</td>\n",
       "      <td>298</td>\n",
       "      <td>59.98</td>\n",
       "      <td>2025-01-16</td>\n",
       "    </tr>\n",
       "    <tr>\n",
       "      <th>3</th>\n",
       "      <td>7316</td>\n",
       "      <td>4581.0</td>\n",
       "      <td>94</td>\n",
       "      <td>59.97</td>\n",
       "      <td>2025-01-13</td>\n",
       "    </tr>\n",
       "    <tr>\n",
       "      <th>4</th>\n",
       "      <td>3586</td>\n",
       "      <td>1425.0</td>\n",
       "      <td>343</td>\n",
       "      <td>59.95</td>\n",
       "      <td>2025-04-26</td>\n",
       "    </tr>\n",
       "    <tr>\n",
       "      <th>5</th>\n",
       "      <td>3644</td>\n",
       "      <td>3402.0</td>\n",
       "      <td>349</td>\n",
       "      <td>59.95</td>\n",
       "      <td>2024-12-31</td>\n",
       "    </tr>\n",
       "    <tr>\n",
       "      <th>6</th>\n",
       "      <td>3613</td>\n",
       "      <td>3672.0</td>\n",
       "      <td>293</td>\n",
       "      <td>59.94</td>\n",
       "      <td>2025-06-17</td>\n",
       "    </tr>\n",
       "    <tr>\n",
       "      <th>7</th>\n",
       "      <td>7524</td>\n",
       "      <td>4764.0</td>\n",
       "      <td>1</td>\n",
       "      <td>59.94</td>\n",
       "      <td>2025-05-23</td>\n",
       "    </tr>\n",
       "    <tr>\n",
       "      <th>8</th>\n",
       "      <td>7958</td>\n",
       "      <td>3404.0</td>\n",
       "      <td>251</td>\n",
       "      <td>59.94</td>\n",
       "      <td>2025-06-20</td>\n",
       "    </tr>\n",
       "    <tr>\n",
       "      <th>9</th>\n",
       "      <td>7089</td>\n",
       "      <td>3050.0</td>\n",
       "      <td>268</td>\n",
       "      <td>59.93</td>\n",
       "      <td>2025-06-03</td>\n",
       "    </tr>\n",
       "  </tbody>\n",
       "</table>\n",
       "</div>"
      ],
      "text/plain": [
       "   id_compra  id_jugador  id_juego  monto      fecha\n",
       "0       7880      2333.0         5  59.99 2025-02-06\n",
       "1       3870      4171.0        19  59.98 2025-02-21\n",
       "2       4590      4975.0       298  59.98 2025-01-16\n",
       "3       7316      4581.0        94  59.97 2025-01-13\n",
       "4       3586      1425.0       343  59.95 2025-04-26\n",
       "5       3644      3402.0       349  59.95 2024-12-31\n",
       "6       3613      3672.0       293  59.94 2025-06-17\n",
       "7       7524      4764.0         1  59.94 2025-05-23\n",
       "8       7958      3404.0       251  59.94 2025-06-20\n",
       "9       7089      3050.0       268  59.93 2025-06-03"
      ]
     },
     "execution_count": 100,
     "metadata": {},
     "output_type": "execute_result"
    }
   ],
   "source": [
    "compras.nlargest(10, \"monto\")"
   ]
  },
  {
   "cell_type": "code",
   "execution_count": 101,
   "id": "72d40e5e",
   "metadata": {},
   "outputs": [
    {
     "data": {
      "text/plain": [
       "id_compra              int64\n",
       "id_jugador           float64\n",
       "id_juego               int64\n",
       "monto                float64\n",
       "fecha         datetime64[ns]\n",
       "dtype: object"
      ]
     },
     "execution_count": 101,
     "metadata": {},
     "output_type": "execute_result"
    }
   ],
   "source": [
    "compras.dtypes"
   ]
  },
  {
   "cell_type": "code",
   "execution_count": 102,
   "id": "0c27592a",
   "metadata": {},
   "outputs": [],
   "source": [
    "compras[\"anio\"]=compras[\"fecha\"].dt.year"
   ]
  },
  {
   "cell_type": "code",
   "execution_count": 103,
   "id": "7a640d3f",
   "metadata": {},
   "outputs": [
    {
     "data": {
      "text/plain": [
       "array([2025, 2024], dtype=int32)"
      ]
     },
     "execution_count": 103,
     "metadata": {},
     "output_type": "execute_result"
    }
   ],
   "source": [
    "compras[\"anio\"].unique()"
   ]
  },
  {
   "cell_type": "markdown",
   "id": "7afc5da0",
   "metadata": {},
   "source": [
    "# ANALISIS JUEGOS"
   ]
  },
  {
   "cell_type": "markdown",
   "id": "ed9c2735",
   "metadata": {},
   "source": [
    "##### Juegos mas jugados\n"
   ]
  },
  {
   "cell_type": "code",
   "execution_count": 202,
   "id": "2544c433",
   "metadata": {},
   "outputs": [],
   "source": [
    "sesiones_por_juego=sesiones.groupby(\"id_juego\").size().reset_index(name=\"cantidad_sesiones\")"
   ]
  },
  {
   "cell_type": "code",
   "execution_count": 203,
   "id": "d4a6a049",
   "metadata": {},
   "outputs": [],
   "source": [
    "sesiones_por_juego=sesiones_por_juego.merge(juegos[[\"id_juego\", \"nombre\", \"categoria\"]], on=\"id_juego\", how=\"left\")"
   ]
  },
  {
   "cell_type": "code",
   "execution_count": 204,
   "id": "c4b5e677",
   "metadata": {},
   "outputs": [
    {
     "data": {
      "text/html": [
       "<div>\n",
       "<style scoped>\n",
       "    .dataframe tbody tr th:only-of-type {\n",
       "        vertical-align: middle;\n",
       "    }\n",
       "\n",
       "    .dataframe tbody tr th {\n",
       "        vertical-align: top;\n",
       "    }\n",
       "\n",
       "    .dataframe thead th {\n",
       "        text-align: right;\n",
       "    }\n",
       "</style>\n",
       "<table border=\"1\" class=\"dataframe\">\n",
       "  <thead>\n",
       "    <tr style=\"text-align: right;\">\n",
       "      <th></th>\n",
       "      <th>id_juego</th>\n",
       "      <th>cantidad_sesiones</th>\n",
       "      <th>nombre</th>\n",
       "      <th>categoria</th>\n",
       "    </tr>\n",
       "  </thead>\n",
       "  <tbody>\n",
       "    <tr>\n",
       "      <th>350</th>\n",
       "      <td>99999</td>\n",
       "      <td>585</td>\n",
       "      <td>NaN</td>\n",
       "      <td>NaN</td>\n",
       "    </tr>\n",
       "    <tr>\n",
       "      <th>226</th>\n",
       "      <td>227</td>\n",
       "      <td>116</td>\n",
       "      <td>Just Dance: Disney Party 1</td>\n",
       "      <td>Musical/Ritmo</td>\n",
       "    </tr>\n",
       "    <tr>\n",
       "      <th>276</th>\n",
       "      <td>277</td>\n",
       "      <td>113</td>\n",
       "      <td>TrackMania 2: Canyon 1</td>\n",
       "      <td>Carreras</td>\n",
       "    </tr>\n",
       "    <tr>\n",
       "      <th>260</th>\n",
       "      <td>261</td>\n",
       "      <td>109</td>\n",
       "      <td>Imagina ser disenadora de Moda</td>\n",
       "      <td>Simulació</td>\n",
       "    </tr>\n",
       "    <tr>\n",
       "      <th>191</th>\n",
       "      <td>192</td>\n",
       "      <td>108</td>\n",
       "      <td>Might &amp; Magic X Legacy 1</td>\n",
       "      <td>Rol</td>\n",
       "    </tr>\n",
       "    <tr>\n",
       "      <th>94</th>\n",
       "      <td>95</td>\n",
       "      <td>105</td>\n",
       "      <td>Just Dance 2018 para PlayStation 4 1</td>\n",
       "      <td>Musical/Ritmo</td>\n",
       "    </tr>\n",
       "    <tr>\n",
       "      <th>211</th>\n",
       "      <td>212</td>\n",
       "      <td>104</td>\n",
       "      <td>Trials Evolution: Gold Edition 1</td>\n",
       "      <td>Carreras/Plataformas</td>\n",
       "    </tr>\n",
       "    <tr>\n",
       "      <th>17</th>\n",
       "      <td>18</td>\n",
       "      <td>102</td>\n",
       "      <td>Splinter Cell Remake 1</td>\n",
       "      <td>Sigilo/Acció</td>\n",
       "    </tr>\n",
       "    <tr>\n",
       "      <th>79</th>\n",
       "      <td>80</td>\n",
       "      <td>102</td>\n",
       "      <td>Starlink: Battle for Atlas para PlayStation 4 1</td>\n",
       "      <td>Acción/Aventur</td>\n",
       "    </tr>\n",
       "    <tr>\n",
       "      <th>84</th>\n",
       "      <td>85</td>\n",
       "      <td>102</td>\n",
       "      <td>Might &amp; Magic Elemental Guardians para Android 1</td>\n",
       "      <td>Estrategia/Rol</td>\n",
       "    </tr>\n",
       "  </tbody>\n",
       "</table>\n",
       "</div>"
      ],
      "text/plain": [
       "     id_juego  cantidad_sesiones  \\\n",
       "350     99999                585   \n",
       "226       227                116   \n",
       "276       277                113   \n",
       "260       261                109   \n",
       "191       192                108   \n",
       "94         95                105   \n",
       "211       212                104   \n",
       "17         18                102   \n",
       "79         80                102   \n",
       "84         85                102   \n",
       "\n",
       "                                               nombre             categoria  \n",
       "350                                               NaN                   NaN  \n",
       "226                        Just Dance: Disney Party 1         Musical/Ritmo  \n",
       "276                            TrackMania 2: Canyon 1              Carreras  \n",
       "260                   Imagina ser disenadora de Moda              Simulació  \n",
       "191                          Might & Magic X Legacy 1                   Rol  \n",
       "94               Just Dance 2018 para PlayStation 4 1         Musical/Ritmo  \n",
       "211                  Trials Evolution: Gold Edition 1  Carreras/Plataformas  \n",
       "17                             Splinter Cell Remake 1          Sigilo/Acció  \n",
       "79    Starlink: Battle for Atlas para PlayStation 4 1        Acción/Aventur  \n",
       "84   Might & Magic Elemental Guardians para Android 1        Estrategia/Rol  "
      ]
     },
     "execution_count": 204,
     "metadata": {},
     "output_type": "execute_result"
    }
   ],
   "source": [
    "sesiones_por_juego.nlargest(10, \"cantidad_sesiones\")"
   ]
  },
  {
   "cell_type": "code",
   "execution_count": 205,
   "id": "a0fff8fa",
   "metadata": {},
   "outputs": [],
   "source": [
    "sesiones_por_juego=sesiones_por_juego.dropna(subset=[\"nombre\"])"
   ]
  },
  {
   "cell_type": "code",
   "execution_count": 206,
   "id": "a5a71a76",
   "metadata": {},
   "outputs": [],
   "source": [
    "top10_sesion_juego=sesiones_por_juego.nlargest(10, \"cantidad_sesiones\")"
   ]
  },
  {
   "cell_type": "code",
   "execution_count": 207,
   "id": "a60175a8",
   "metadata": {},
   "outputs": [
    {
     "data": {
      "text/html": [
       "<div>\n",
       "<style scoped>\n",
       "    .dataframe tbody tr th:only-of-type {\n",
       "        vertical-align: middle;\n",
       "    }\n",
       "\n",
       "    .dataframe tbody tr th {\n",
       "        vertical-align: top;\n",
       "    }\n",
       "\n",
       "    .dataframe thead th {\n",
       "        text-align: right;\n",
       "    }\n",
       "</style>\n",
       "<table border=\"1\" class=\"dataframe\">\n",
       "  <thead>\n",
       "    <tr style=\"text-align: right;\">\n",
       "      <th></th>\n",
       "      <th>id_juego</th>\n",
       "      <th>cantidad_sesiones</th>\n",
       "      <th>nombre</th>\n",
       "      <th>categoria</th>\n",
       "    </tr>\n",
       "  </thead>\n",
       "  <tbody>\n",
       "    <tr>\n",
       "      <th>226</th>\n",
       "      <td>227</td>\n",
       "      <td>116</td>\n",
       "      <td>Just Dance: Disney Party 1</td>\n",
       "      <td>Musical/Ritmo</td>\n",
       "    </tr>\n",
       "    <tr>\n",
       "      <th>276</th>\n",
       "      <td>277</td>\n",
       "      <td>113</td>\n",
       "      <td>TrackMania 2: Canyon 1</td>\n",
       "      <td>Carreras</td>\n",
       "    </tr>\n",
       "    <tr>\n",
       "      <th>260</th>\n",
       "      <td>261</td>\n",
       "      <td>109</td>\n",
       "      <td>Imagina ser disenadora de Moda</td>\n",
       "      <td>Simulació</td>\n",
       "    </tr>\n",
       "    <tr>\n",
       "      <th>191</th>\n",
       "      <td>192</td>\n",
       "      <td>108</td>\n",
       "      <td>Might &amp; Magic X Legacy 1</td>\n",
       "      <td>Rol</td>\n",
       "    </tr>\n",
       "    <tr>\n",
       "      <th>94</th>\n",
       "      <td>95</td>\n",
       "      <td>105</td>\n",
       "      <td>Just Dance 2018 para PlayStation 4 1</td>\n",
       "      <td>Musical/Ritmo</td>\n",
       "    </tr>\n",
       "    <tr>\n",
       "      <th>211</th>\n",
       "      <td>212</td>\n",
       "      <td>104</td>\n",
       "      <td>Trials Evolution: Gold Edition 1</td>\n",
       "      <td>Carreras/Plataformas</td>\n",
       "    </tr>\n",
       "    <tr>\n",
       "      <th>17</th>\n",
       "      <td>18</td>\n",
       "      <td>102</td>\n",
       "      <td>Splinter Cell Remake 1</td>\n",
       "      <td>Sigilo/Acció</td>\n",
       "    </tr>\n",
       "    <tr>\n",
       "      <th>79</th>\n",
       "      <td>80</td>\n",
       "      <td>102</td>\n",
       "      <td>Starlink: Battle for Atlas para PlayStation 4 1</td>\n",
       "      <td>Acción/Aventur</td>\n",
       "    </tr>\n",
       "    <tr>\n",
       "      <th>84</th>\n",
       "      <td>85</td>\n",
       "      <td>102</td>\n",
       "      <td>Might &amp; Magic Elemental Guardians para Android 1</td>\n",
       "      <td>Estrategia/Rol</td>\n",
       "    </tr>\n",
       "    <tr>\n",
       "      <th>104</th>\n",
       "      <td>105</td>\n",
       "      <td>102</td>\n",
       "      <td>For Honor 1</td>\n",
       "      <td>Lucha</td>\n",
       "    </tr>\n",
       "  </tbody>\n",
       "</table>\n",
       "</div>"
      ],
      "text/plain": [
       "     id_juego  cantidad_sesiones  \\\n",
       "226       227                116   \n",
       "276       277                113   \n",
       "260       261                109   \n",
       "191       192                108   \n",
       "94         95                105   \n",
       "211       212                104   \n",
       "17         18                102   \n",
       "79         80                102   \n",
       "84         85                102   \n",
       "104       105                102   \n",
       "\n",
       "                                               nombre             categoria  \n",
       "226                        Just Dance: Disney Party 1         Musical/Ritmo  \n",
       "276                            TrackMania 2: Canyon 1              Carreras  \n",
       "260                   Imagina ser disenadora de Moda              Simulació  \n",
       "191                          Might & Magic X Legacy 1                   Rol  \n",
       "94               Just Dance 2018 para PlayStation 4 1         Musical/Ritmo  \n",
       "211                  Trials Evolution: Gold Edition 1  Carreras/Plataformas  \n",
       "17                             Splinter Cell Remake 1          Sigilo/Acció  \n",
       "79    Starlink: Battle for Atlas para PlayStation 4 1        Acción/Aventur  \n",
       "84   Might & Magic Elemental Guardians para Android 1        Estrategia/Rol  \n",
       "104                                       For Honor 1                 Lucha  "
      ]
     },
     "execution_count": 207,
     "metadata": {},
     "output_type": "execute_result"
    }
   ],
   "source": [
    "top10_sesion_juego"
   ]
  },
  {
   "cell_type": "code",
   "execution_count": 201,
   "id": "bfe8f1ff",
   "metadata": {},
   "outputs": [
    {
     "data": {
      "text/html": [
       "<div>\n",
       "<style scoped>\n",
       "    .dataframe tbody tr th:only-of-type {\n",
       "        vertical-align: middle;\n",
       "    }\n",
       "\n",
       "    .dataframe tbody tr th {\n",
       "        vertical-align: top;\n",
       "    }\n",
       "\n",
       "    .dataframe thead th {\n",
       "        text-align: right;\n",
       "    }\n",
       "</style>\n",
       "<table border=\"1\" class=\"dataframe\">\n",
       "  <thead>\n",
       "    <tr style=\"text-align: right;\">\n",
       "      <th></th>\n",
       "      <th>id_juego</th>\n",
       "      <th>cantidad_sesiones</th>\n",
       "    </tr>\n",
       "  </thead>\n",
       "  <tbody>\n",
       "    <tr>\n",
       "      <th>80</th>\n",
       "      <td>81</td>\n",
       "      <td>58</td>\n",
       "    </tr>\n",
       "    <tr>\n",
       "      <th>87</th>\n",
       "      <td>88</td>\n",
       "      <td>58</td>\n",
       "    </tr>\n",
       "    <tr>\n",
       "      <th>14</th>\n",
       "      <td>15</td>\n",
       "      <td>59</td>\n",
       "    </tr>\n",
       "    <tr>\n",
       "      <th>128</th>\n",
       "      <td>129</td>\n",
       "      <td>63</td>\n",
       "    </tr>\n",
       "    <tr>\n",
       "      <th>326</th>\n",
       "      <td>327</td>\n",
       "      <td>63</td>\n",
       "    </tr>\n",
       "    <tr>\n",
       "      <th>286</th>\n",
       "      <td>287</td>\n",
       "      <td>65</td>\n",
       "    </tr>\n",
       "    <tr>\n",
       "      <th>334</th>\n",
       "      <td>335</td>\n",
       "      <td>65</td>\n",
       "    </tr>\n",
       "    <tr>\n",
       "      <th>27</th>\n",
       "      <td>28</td>\n",
       "      <td>66</td>\n",
       "    </tr>\n",
       "    <tr>\n",
       "      <th>56</th>\n",
       "      <td>57</td>\n",
       "      <td>66</td>\n",
       "    </tr>\n",
       "    <tr>\n",
       "      <th>163</th>\n",
       "      <td>164</td>\n",
       "      <td>66</td>\n",
       "    </tr>\n",
       "  </tbody>\n",
       "</table>\n",
       "</div>"
      ],
      "text/plain": [
       "     id_juego  cantidad_sesiones\n",
       "80         81                 58\n",
       "87         88                 58\n",
       "14         15                 59\n",
       "128       129                 63\n",
       "326       327                 63\n",
       "286       287                 65\n",
       "334       335                 65\n",
       "27         28                 66\n",
       "56         57                 66\n",
       "163       164                 66"
      ]
     },
     "execution_count": 201,
     "metadata": {},
     "output_type": "execute_result"
    }
   ],
   "source": [
    "sesiones_por_juego.nsmallest(10, \"cantidad_sesiones\")"
   ]
  },
  {
   "cell_type": "code",
   "execution_count": 181,
   "id": "1bcea416",
   "metadata": {},
   "outputs": [],
   "source": [
    "sesiones_por_juego.to_csv(\"sesiones_por_juego.csv\", index=False)"
   ]
  },
  {
   "cell_type": "markdown",
   "id": "4c4b15da",
   "metadata": {},
   "source": [
    "##### Juegos mas comprados"
   ]
  },
  {
   "cell_type": "code",
   "execution_count": 182,
   "id": "afc87cc5",
   "metadata": {},
   "outputs": [],
   "source": [
    "compras_por_juego=compras.groupby(\"id_juego\").size().reset_index(name=\"cantidad_compras\")"
   ]
  },
  {
   "cell_type": "code",
   "execution_count": 183,
   "id": "0a72d9d4",
   "metadata": {},
   "outputs": [],
   "source": [
    "compras_por_juego=compras_por_juego.merge(juegos[[\"id_juego\", \"nombre\", \"categoria\"]], on=\"id_juego\", how=\"right\")"
   ]
  },
  {
   "cell_type": "code",
   "execution_count": 184,
   "id": "fdc6789e",
   "metadata": {},
   "outputs": [],
   "source": [
    "top10_compras_juego=compras_por_juego.nlargest(10,\"cantidad_compras\")"
   ]
  },
  {
   "cell_type": "code",
   "execution_count": 185,
   "id": "3d24a7e2",
   "metadata": {},
   "outputs": [
    {
     "data": {
      "text/html": [
       "<div>\n",
       "<style scoped>\n",
       "    .dataframe tbody tr th:only-of-type {\n",
       "        vertical-align: middle;\n",
       "    }\n",
       "\n",
       "    .dataframe tbody tr th {\n",
       "        vertical-align: top;\n",
       "    }\n",
       "\n",
       "    .dataframe thead th {\n",
       "        text-align: right;\n",
       "    }\n",
       "</style>\n",
       "<table border=\"1\" class=\"dataframe\">\n",
       "  <thead>\n",
       "    <tr style=\"text-align: right;\">\n",
       "      <th></th>\n",
       "      <th>id_juego</th>\n",
       "      <th>cantidad_compras</th>\n",
       "      <th>nombre</th>\n",
       "      <th>categoria</th>\n",
       "    </tr>\n",
       "  </thead>\n",
       "  <tbody>\n",
       "    <tr>\n",
       "      <th>270</th>\n",
       "      <td>272</td>\n",
       "      <td>10</td>\n",
       "      <td>NCIS 1</td>\n",
       "      <td>Aventura/Puzles</td>\n",
       "    </tr>\n",
       "    <tr>\n",
       "      <th>284</th>\n",
       "      <td>286</td>\n",
       "      <td>12</td>\n",
       "      <td>Call of Juarez: The Cartel 1</td>\n",
       "      <td>Disparos</td>\n",
       "    </tr>\n",
       "    <tr>\n",
       "      <th>15</th>\n",
       "      <td>17</td>\n",
       "      <td>13</td>\n",
       "      <td>Assassin's Creed Jade 1</td>\n",
       "      <td>Rol/Acció</td>\n",
       "    </tr>\n",
       "    <tr>\n",
       "      <th>61</th>\n",
       "      <td>63</td>\n",
       "      <td>13</td>\n",
       "      <td>Tom Clancy's Elite Squad para Android 1</td>\n",
       "      <td>Estrategia</td>\n",
       "    </tr>\n",
       "    <tr>\n",
       "      <th>80</th>\n",
       "      <td>82</td>\n",
       "      <td>13</td>\n",
       "      <td>Transference para PlayStation 4 1</td>\n",
       "      <td>Misterio/Puzles</td>\n",
       "    </tr>\n",
       "    <tr>\n",
       "      <th>202</th>\n",
       "      <td>204</td>\n",
       "      <td>13</td>\n",
       "      <td>Prince of Persia: The Shadow and the Flame 1</td>\n",
       "      <td>Acción/Aventur</td>\n",
       "    </tr>\n",
       "    <tr>\n",
       "      <th>271</th>\n",
       "      <td>273</td>\n",
       "      <td>13</td>\n",
       "      <td>Las aventuras de Tintn: El secreto del Unicorn</td>\n",
       "      <td>Aventura</td>\n",
       "    </tr>\n",
       "    <tr>\n",
       "      <th>328</th>\n",
       "      <td>330</td>\n",
       "      <td>13</td>\n",
       "      <td>Morbid Metal para Ordenador 2</td>\n",
       "      <td>Acció</td>\n",
       "    </tr>\n",
       "    <tr>\n",
       "      <th>114</th>\n",
       "      <td>116</td>\n",
       "      <td>14</td>\n",
       "      <td>Rocksmith 2014 Edition  Remast</td>\n",
       "      <td>Musical/Simulació</td>\n",
       "    </tr>\n",
       "    <tr>\n",
       "      <th>119</th>\n",
       "      <td>121</td>\n",
       "      <td>14</td>\n",
       "      <td>Hundir la flota 1</td>\n",
       "      <td>Estrategia</td>\n",
       "    </tr>\n",
       "  </tbody>\n",
       "</table>\n",
       "</div>"
      ],
      "text/plain": [
       "     id_juego  cantidad_compras  \\\n",
       "270       272                10   \n",
       "284       286                12   \n",
       "15         17                13   \n",
       "61         63                13   \n",
       "80         82                13   \n",
       "202       204                13   \n",
       "271       273                13   \n",
       "328       330                13   \n",
       "114       116                14   \n",
       "119       121                14   \n",
       "\n",
       "                                             nombre          categoria  \n",
       "270                                          NCIS 1    Aventura/Puzles  \n",
       "284                    Call of Juarez: The Cartel 1           Disparos  \n",
       "15                          Assassin's Creed Jade 1          Rol/Acció  \n",
       "61          Tom Clancy's Elite Squad para Android 1         Estrategia  \n",
       "80                Transference para PlayStation 4 1    Misterio/Puzles  \n",
       "202    Prince of Persia: The Shadow and the Flame 1     Acción/Aventur  \n",
       "271  Las aventuras de Tintn: El secreto del Unicorn           Aventura  \n",
       "328                   Morbid Metal para Ordenador 2              Acció  \n",
       "114                  Rocksmith 2014 Edition  Remast  Musical/Simulació  \n",
       "119                               Hundir la flota 1         Estrategia  "
      ]
     },
     "execution_count": 185,
     "metadata": {},
     "output_type": "execute_result"
    }
   ],
   "source": [
    "compras_por_juego.nsmallest(10,\"cantidad_compras\")"
   ]
  },
  {
   "cell_type": "code",
   "execution_count": 186,
   "id": "80664fa0",
   "metadata": {},
   "outputs": [],
   "source": [
    "compras_por_juego.to_csv(\"compras_por_juego.csv\", index=False)"
   ]
  },
  {
   "cell_type": "code",
   "execution_count": 187,
   "id": "97086727",
   "metadata": {},
   "outputs": [
    {
     "data": {
      "image/png": "[encoded data removed]",
      "text/plain": [
       "<Figure size 640x480 with 1 Axes>"
      ]
     },
     "metadata": {},
     "output_type": "display_data"
    }
   ],
   "source": [
    "plt.title(\"Cantidad de compras por juego\")\n",
    "plt.barh(top10_compras_juego[\"nombre\"], top10_compras_juego[\"cantidad_compras\"])\n",
    "plt.xlabel(\"cantidad\")\n",
    "plt.ylabel(\"juegos\")\n",
    "plt.xlim(30, 40)\n",
    "\n",
    "plt.show()\n"
   ]
  },
  {
   "cell_type": "code",
   "execution_count": 170,
   "id": "959bf8d5",
   "metadata": {},
   "outputs": [
    {
     "data": {
      "image/png": "[encoded data removed]",
      "text/plain": [
       "<Figure size 640x480 with 1 Axes>"
      ]
     },
     "metadata": {},
     "output_type": "display_data"
    }
   ],
   "source": [
    "plt.title(\"Cantidad de juegos por juego\")\n",
    "plt.barh(top10_sesion_juego[\"nombre\"], top10_sesion_juego[\"cantidad_sesiones\"])\n",
    "plt.xlabel(\"cantidad\")\n",
    "plt.ylabel(\"juegos\")\n",
    "plt.xlim(100,117 )\n",
    "\n",
    "plt.show()"
   ]
  },
  {
   "cell_type": "code",
   "execution_count": 171,
   "id": "8c97f33c",
   "metadata": {},
   "outputs": [
    {
     "name": "stdout",
     "output_type": "stream",
     "text": [
      "🎮 Juegos que están tanto en el top 10 de más jugados como más comprados:\n"
     ]
    }
   ],
   "source": [
    "\n",
    "sesiones_por_juego = set(top10_sesion_juego['nombre'])\n",
    "compras_por_juego = set(top10_compras_juego['nombre'])\n",
    "\n",
    "# Intersección\n",
    "juegos_en_ambos = sesiones_por_juego & compras_por_juego\n",
    "\n",
    "print(\"🎮 Juegos que están tanto en el top 10 de más jugados como más comprados:\")\n",
    "for juego in juegos_en_ambos:\n",
    "    print(\"-\", juego)\n"
   ]
  },
  {
   "cell_type": "code",
   "execution_count": null,
   "id": "422b131d",
   "metadata": {},
   "outputs": [],
   "source": [
    "#No coinciden los juegos mas jugados con los mas comprados!!\n",
    "#vamos a ver los juegos jugados pero poco comprados para pensar\n",
    "#si podemos mejorar la venta."
   ]
  },
  {
   "cell_type": "code",
   "execution_count": 189,
   "id": "30952480",
   "metadata": {},
   "outputs": [
    {
     "data": {
      "text/html": [
       "<div>\n",
       "<style scoped>\n",
       "    .dataframe tbody tr th:only-of-type {\n",
       "        vertical-align: middle;\n",
       "    }\n",
       "\n",
       "    .dataframe tbody tr th {\n",
       "        vertical-align: top;\n",
       "    }\n",
       "\n",
       "    .dataframe thead th {\n",
       "        text-align: right;\n",
       "    }\n",
       "</style>\n",
       "<table border=\"1\" class=\"dataframe\">\n",
       "  <thead>\n",
       "    <tr style=\"text-align: right;\">\n",
       "      <th></th>\n",
       "      <th>id_juego</th>\n",
       "      <th>cantidad_sesiones</th>\n",
       "      <th>nombre</th>\n",
       "      <th>categoria</th>\n",
       "      <th>cantidad_compras</th>\n",
       "      <th>ratio</th>\n",
       "    </tr>\n",
       "  </thead>\n",
       "  <tbody>\n",
       "    <tr>\n",
       "      <th>210</th>\n",
       "      <td>212</td>\n",
       "      <td>104</td>\n",
       "      <td>Trials Evolution: Gold Edition 1</td>\n",
       "      <td>Carreras/Plataformas</td>\n",
       "      <td>15</td>\n",
       "      <td>0.144231</td>\n",
       "    </tr>\n",
       "    <tr>\n",
       "      <th>16</th>\n",
       "      <td>18</td>\n",
       "      <td>102</td>\n",
       "      <td>Splinter Cell Remake 1</td>\n",
       "      <td>Sigilo/Acció</td>\n",
       "      <td>17</td>\n",
       "      <td>0.166667</td>\n",
       "    </tr>\n",
       "    <tr>\n",
       "      <th>310</th>\n",
       "      <td>312</td>\n",
       "      <td>98</td>\n",
       "      <td>For Honor 2</td>\n",
       "      <td>Lucha</td>\n",
       "      <td>17</td>\n",
       "      <td>0.173469</td>\n",
       "    </tr>\n",
       "    <tr>\n",
       "      <th>259</th>\n",
       "      <td>261</td>\n",
       "      <td>109</td>\n",
       "      <td>Imagina ser disenadora de Moda</td>\n",
       "      <td>Simulació</td>\n",
       "      <td>19</td>\n",
       "      <td>0.174312</td>\n",
       "    </tr>\n",
       "    <tr>\n",
       "      <th>224</th>\n",
       "      <td>226</td>\n",
       "      <td>101</td>\n",
       "      <td>Assassin's Creed III 1</td>\n",
       "      <td>Acción/Aventur</td>\n",
       "      <td>19</td>\n",
       "      <td>0.188119</td>\n",
       "    </tr>\n",
       "  </tbody>\n",
       "</table>\n",
       "</div>"
      ],
      "text/plain": [
       "     id_juego  cantidad_sesiones                            nombre  \\\n",
       "210       212                104  Trials Evolution: Gold Edition 1   \n",
       "16         18                102            Splinter Cell Remake 1   \n",
       "310       312                 98                       For Honor 2   \n",
       "259       261                109   Imagina ser disenadora de Moda    \n",
       "224       226                101            Assassin's Creed III 1   \n",
       "\n",
       "                categoria  cantidad_compras     ratio  \n",
       "210  Carreras/Plataformas                15  0.144231  \n",
       "16           Sigilo/Acció                17  0.166667  \n",
       "310                 Lucha                17  0.173469  \n",
       "259             Simulació                19  0.174312  \n",
       "224        Acción/Aventur                19  0.188119  "
      ]
     },
     "execution_count": 189,
     "metadata": {},
     "output_type": "execute_result"
    }
   ],
   "source": [
    "# Unir y calcular ratio en 1 solo bloque\n",
    "comparacion = sesiones_por_juego.merge(\n",
    "    compras_por_juego[['id_juego', 'cantidad_compras']],\n",
    "    on='id_juego',\n",
    "    how='left'\n",
    ").fillna(0)\n",
    "\n",
    "comparacion['ratio'] = comparacion['cantidad_compras'] / comparacion['cantidad_sesiones']\n",
    "\n",
    "# Ver los más jugados con menor ratio de conversión\n",
    "comparacion.sort_values('cantidad_sesiones', ascending=False).head(20).sort_values('ratio').head(5)\n"
   ]
  },
  {
   "cell_type": "code",
   "execution_count": 190,
   "id": "5d508f64",
   "metadata": {},
   "outputs": [
    {
     "data": {
      "text/html": [
       "<div>\n",
       "<style scoped>\n",
       "    .dataframe tbody tr th:only-of-type {\n",
       "        vertical-align: middle;\n",
       "    }\n",
       "\n",
       "    .dataframe tbody tr th {\n",
       "        vertical-align: top;\n",
       "    }\n",
       "\n",
       "    .dataframe thead th {\n",
       "        text-align: right;\n",
       "    }\n",
       "</style>\n",
       "<table border=\"1\" class=\"dataframe\">\n",
       "  <thead>\n",
       "    <tr style=\"text-align: right;\">\n",
       "      <th></th>\n",
       "      <th>id_juego</th>\n",
       "      <th>cantidad_sesiones</th>\n",
       "      <th>nombre</th>\n",
       "      <th>categoria</th>\n",
       "      <th>cantidad_compras</th>\n",
       "      <th>ratio</th>\n",
       "    </tr>\n",
       "  </thead>\n",
       "  <tbody>\n",
       "    <tr>\n",
       "      <th>55</th>\n",
       "      <td>57</td>\n",
       "      <td>66</td>\n",
       "      <td>Far Cry 3 Blood Dragon Classic Edition para Pl...</td>\n",
       "      <td>Acción/Aventur</td>\n",
       "      <td>32</td>\n",
       "      <td>0.484848</td>\n",
       "    </tr>\n",
       "    <tr>\n",
       "      <th>268</th>\n",
       "      <td>270</td>\n",
       "      <td>69</td>\n",
       "      <td>Motionsports Adrenaline 1</td>\n",
       "      <td>Deportes</td>\n",
       "      <td>32</td>\n",
       "      <td>0.463768</td>\n",
       "    </tr>\n",
       "    <tr>\n",
       "      <th>289</th>\n",
       "      <td>291</td>\n",
       "      <td>71</td>\n",
       "      <td>Michael Jackson: The Experience 1</td>\n",
       "      <td>Musical/Ritmo</td>\n",
       "      <td>32</td>\n",
       "      <td>0.450704</td>\n",
       "    </tr>\n",
       "    <tr>\n",
       "      <th>337</th>\n",
       "      <td>339</td>\n",
       "      <td>76</td>\n",
       "      <td>MONOPOLY para Nintendo Switch 2</td>\n",
       "      <td>Juegos de mesa</td>\n",
       "      <td>34</td>\n",
       "      <td>0.447368</td>\n",
       "    </tr>\n",
       "    <tr>\n",
       "      <th>73</th>\n",
       "      <td>75</td>\n",
       "      <td>77</td>\n",
       "      <td>Far Cry: New Dawn para PlayStation 4 1</td>\n",
       "      <td>Acción/Aventur</td>\n",
       "      <td>36</td>\n",
       "      <td>0.467532</td>\n",
       "    </tr>\n",
       "  </tbody>\n",
       "</table>\n",
       "</div>"
      ],
      "text/plain": [
       "     id_juego  cantidad_sesiones  \\\n",
       "55         57                 66   \n",
       "268       270                 69   \n",
       "289       291                 71   \n",
       "337       339                 76   \n",
       "73         75                 77   \n",
       "\n",
       "                                                nombre       categoria  \\\n",
       "55   Far Cry 3 Blood Dragon Classic Edition para Pl...  Acción/Aventur   \n",
       "268                          Motionsports Adrenaline 1        Deportes   \n",
       "289                  Michael Jackson: The Experience 1   Musical/Ritmo   \n",
       "337                    MONOPOLY para Nintendo Switch 2  Juegos de mesa   \n",
       "73              Far Cry: New Dawn para PlayStation 4 1  Acción/Aventur   \n",
       "\n",
       "     cantidad_compras     ratio  \n",
       "55                 32  0.484848  \n",
       "268                32  0.463768  \n",
       "289                32  0.450704  \n",
       "337                34  0.447368  \n",
       "73                 36  0.467532  "
      ]
     },
     "execution_count": 190,
     "metadata": {},
     "output_type": "execute_result"
    }
   ],
   "source": [
    "# Ver juegos más comprados con pocas sesiones (ordenado por ratio alto)\n",
    "comparacion.sort_values('cantidad_compras', ascending=False).head(20).sort_values('cantidad_sesiones').head(5)\n"
   ]
  },
  {
   "cell_type": "code",
   "execution_count": null,
   "id": "4f4db569",
   "metadata": {},
   "outputs": [],
   "source": [
    "#Ratio alto, el juego se juega mucho en proporsion al uso que tiene. compras por impulso o poca retension de juego?"
   ]
  },
  {
   "cell_type": "markdown",
   "id": "b6ff33a6",
   "metadata": {},
   "source": [
    "##### Categorias \n"
   ]
  },
  {
   "cell_type": "code",
   "execution_count": 116,
   "id": "0d502bef",
   "metadata": {},
   "outputs": [],
   "source": [
    "compras_por_categoria = compras.merge(juegos[['id_juego', 'categoria']], on='id_juego', how='left')\n"
   ]
  },
  {
   "cell_type": "code",
   "execution_count": 191,
   "id": "00010d09",
   "metadata": {},
   "outputs": [],
   "source": [
    "compras_por_categoria = compras_por_categoria.groupby('categoria').agg(\n",
    "    cantidad_compras=('id_compra', 'count'),  \n",
    "    monto_total=('monto', 'sum')             \n",
    ").reset_index()\n"
   ]
  },
  {
   "cell_type": "code",
   "execution_count": 192,
   "id": "600b106b",
   "metadata": {},
   "outputs": [
    {
     "data": {
      "text/html": [
       "<div>\n",
       "<style scoped>\n",
       "    .dataframe tbody tr th:only-of-type {\n",
       "        vertical-align: middle;\n",
       "    }\n",
       "\n",
       "    .dataframe tbody tr th {\n",
       "        vertical-align: top;\n",
       "    }\n",
       "\n",
       "    .dataframe thead th {\n",
       "        text-align: right;\n",
       "    }\n",
       "</style>\n",
       "<table border=\"1\" class=\"dataframe\">\n",
       "  <thead>\n",
       "    <tr style=\"text-align: right;\">\n",
       "      <th></th>\n",
       "      <th>categoria</th>\n",
       "      <th>cantidad_compras</th>\n",
       "      <th>monto_total</th>\n",
       "    </tr>\n",
       "  </thead>\n",
       "  <tbody>\n",
       "    <tr>\n",
       "      <th>0</th>\n",
       "      <td>Acció</td>\n",
       "      <td>35</td>\n",
       "      <td>800.43</td>\n",
       "    </tr>\n",
       "    <tr>\n",
       "      <th>1</th>\n",
       "      <td>Acción/Arcad</td>\n",
       "      <td>64</td>\n",
       "      <td>1611.69</td>\n",
       "    </tr>\n",
       "    <tr>\n",
       "      <th>2</th>\n",
       "      <td>Acción/Aventur</td>\n",
       "      <td>1287</td>\n",
       "      <td>34666.52</td>\n",
       "    </tr>\n",
       "    <tr>\n",
       "      <th>3</th>\n",
       "      <td>Acción/Disparo</td>\n",
       "      <td>18</td>\n",
       "      <td>484.27</td>\n",
       "    </tr>\n",
       "    <tr>\n",
       "      <th>4</th>\n",
       "      <td>Acción/Estrategi</td>\n",
       "      <td>23</td>\n",
       "      <td>664.48</td>\n",
       "    </tr>\n",
       "  </tbody>\n",
       "</table>\n",
       "</div>"
      ],
      "text/plain": [
       "          categoria  cantidad_compras  monto_total\n",
       "0             Acció                35       800.43\n",
       "1      Acción/Arcad                64      1611.69\n",
       "2    Acción/Aventur              1287     34666.52\n",
       "3    Acción/Disparo                18       484.27\n",
       "4  Acción/Estrategi                23       664.48"
      ]
     },
     "execution_count": 192,
     "metadata": {},
     "output_type": "execute_result"
    }
   ],
   "source": [
    "compras_por_categoria.head()"
   ]
  },
  {
   "cell_type": "code",
   "execution_count": 119,
   "id": "05d4c06f",
   "metadata": {},
   "outputs": [
    {
     "data": {
      "text/html": [
       "<div>\n",
       "<style scoped>\n",
       "    .dataframe tbody tr th:only-of-type {\n",
       "        vertical-align: middle;\n",
       "    }\n",
       "\n",
       "    .dataframe tbody tr th {\n",
       "        vertical-align: top;\n",
       "    }\n",
       "\n",
       "    .dataframe thead th {\n",
       "        text-align: right;\n",
       "    }\n",
       "</style>\n",
       "<table border=\"1\" class=\"dataframe\">\n",
       "  <thead>\n",
       "    <tr style=\"text-align: right;\">\n",
       "      <th></th>\n",
       "      <th>categoria</th>\n",
       "      <th>cantidad_compras</th>\n",
       "      <th>monto_total</th>\n",
       "    </tr>\n",
       "  </thead>\n",
       "  <tbody>\n",
       "    <tr>\n",
       "      <th>2</th>\n",
       "      <td>Acción/Aventur</td>\n",
       "      <td>1287</td>\n",
       "      <td>34666.52</td>\n",
       "    </tr>\n",
       "    <tr>\n",
       "      <th>25</th>\n",
       "      <td>Estrategia</td>\n",
       "      <td>738</td>\n",
       "      <td>19910.69</td>\n",
       "    </tr>\n",
       "    <tr>\n",
       "      <th>41</th>\n",
       "      <td>Musical/Ritmo</td>\n",
       "      <td>639</td>\n",
       "      <td>17290.28</td>\n",
       "    </tr>\n",
       "    <tr>\n",
       "      <th>12</th>\n",
       "      <td>Carreras</td>\n",
       "      <td>415</td>\n",
       "      <td>10980.87</td>\n",
       "    </tr>\n",
       "    <tr>\n",
       "      <th>45</th>\n",
       "      <td>Plataformas</td>\n",
       "      <td>323</td>\n",
       "      <td>9114.00</td>\n",
       "    </tr>\n",
       "    <tr>\n",
       "      <th>29</th>\n",
       "      <td>Estrategia/Rol</td>\n",
       "      <td>318</td>\n",
       "      <td>8252.18</td>\n",
       "    </tr>\n",
       "    <tr>\n",
       "      <th>20</th>\n",
       "      <td>Disparos</td>\n",
       "      <td>227</td>\n",
       "      <td>6115.18</td>\n",
       "    </tr>\n",
       "    <tr>\n",
       "      <th>65</th>\n",
       "      <td>Sigilo/Acció</td>\n",
       "      <td>195</td>\n",
       "      <td>5461.10</td>\n",
       "    </tr>\n",
       "    <tr>\n",
       "      <th>21</th>\n",
       "      <td>Disparos táctico</td>\n",
       "      <td>192</td>\n",
       "      <td>5535.44</td>\n",
       "    </tr>\n",
       "    <tr>\n",
       "      <th>36</th>\n",
       "      <td>Lucha</td>\n",
       "      <td>186</td>\n",
       "      <td>5050.01</td>\n",
       "    </tr>\n",
       "  </tbody>\n",
       "</table>\n",
       "</div>"
      ],
      "text/plain": [
       "           categoria  cantidad_compras  monto_total\n",
       "2     Acción/Aventur              1287     34666.52\n",
       "25        Estrategia               738     19910.69\n",
       "41     Musical/Ritmo               639     17290.28\n",
       "12          Carreras               415     10980.87\n",
       "45       Plataformas               323      9114.00\n",
       "29    Estrategia/Rol               318      8252.18\n",
       "20          Disparos               227      6115.18\n",
       "65      Sigilo/Acció               195      5461.10\n",
       "21  Disparos táctico               192      5535.44\n",
       "36             Lucha               186      5050.01"
      ]
     },
     "execution_count": 119,
     "metadata": {},
     "output_type": "execute_result"
    }
   ],
   "source": [
    "compras_stats.nlargest(10, \"cantidad_compras\")"
   ]
  },
  {
   "cell_type": "code",
   "execution_count": 193,
   "id": "678a69e6",
   "metadata": {},
   "outputs": [],
   "source": [
    "top10_cate=compras_por_categoria.nlargest(10, \"monto_total\")"
   ]
  },
  {
   "cell_type": "code",
   "execution_count": 145,
   "id": "2639c4c8",
   "metadata": {},
   "outputs": [
    {
     "data": {
      "image/png": "[encoded data removed]",
      "text/plain": [
       "<Figure size 640x480 with 1 Axes>"
      ]
     },
     "metadata": {},
     "output_type": "display_data"
    }
   ],
   "source": [
    "plt.title(\"Cantidad de compras por categoria\")\n",
    "plt.barh(top10_cate[\"categoria\"], top10_cate[\"cantidad_compras\"])\n",
    "plt.xlabel(\"cantidad\")\n",
    "plt.ylabel(\"categoria\")\n",
    "\n",
    "\n",
    "plt.show()\n"
   ]
  },
  {
   "cell_type": "code",
   "execution_count": 208,
   "id": "bb3d21fd",
   "metadata": {},
   "outputs": [],
   "source": [
    "sesiones_por_categoria = sesiones_por_juego.groupby('categoria', as_index=False)['cantidad_sesiones'].sum()\n"
   ]
  },
  {
   "cell_type": "code",
   "execution_count": 210,
   "id": "942fcfa0",
   "metadata": {},
   "outputs": [
    {
     "name": "stdout",
     "output_type": "stream",
     "text": [
      "           categoria  cantidad_sesiones\n",
      "2     Acción/Aventur               4630\n",
      "25        Estrategia               2714\n",
      "41     Musical/Ritmo               2286\n",
      "12          Carreras               1485\n",
      "45       Plataformas               1230\n",
      "29    Estrategia/Rol               1124\n",
      "20          Disparos                858\n",
      "21  Disparos táctico                746\n",
      "65      Sigilo/Acció                740\n",
      "36             Lucha                732\n"
     ]
    }
   ],
   "source": [
    "top_categorias_mas_jugadas = sesiones_por_categoria.nlargest(10, 'cantidad_sesiones')\n",
    "print(top_categorias_mas_jugadas)\n"
   ]
  },
  {
   "cell_type": "code",
   "execution_count": 211,
   "id": "fa1204ac",
   "metadata": {},
   "outputs": [
    {
     "data": {
      "text/html": [
       "<div>\n",
       "<style scoped>\n",
       "    .dataframe tbody tr th:only-of-type {\n",
       "        vertical-align: middle;\n",
       "    }\n",
       "\n",
       "    .dataframe tbody tr th {\n",
       "        vertical-align: top;\n",
       "    }\n",
       "\n",
       "    .dataframe thead th {\n",
       "        text-align: right;\n",
       "    }\n",
       "</style>\n",
       "<table border=\"1\" class=\"dataframe\">\n",
       "  <thead>\n",
       "    <tr style=\"text-align: right;\">\n",
       "      <th></th>\n",
       "      <th>id_sesion</th>\n",
       "      <th>id_jugador</th>\n",
       "      <th>id_juego</th>\n",
       "      <th>fecha</th>\n",
       "      <th>anio</th>\n",
       "      <th>mes</th>\n",
       "      <th>dia</th>\n",
       "    </tr>\n",
       "  </thead>\n",
       "  <tbody>\n",
       "    <tr>\n",
       "      <th>0</th>\n",
       "      <td>1</td>\n",
       "      <td>4234</td>\n",
       "      <td>221</td>\n",
       "      <td>2025-04-18</td>\n",
       "      <td>2025</td>\n",
       "      <td>4</td>\n",
       "      <td>Friday</td>\n",
       "    </tr>\n",
       "    <tr>\n",
       "      <th>1</th>\n",
       "      <td>2</td>\n",
       "      <td>1769</td>\n",
       "      <td>206</td>\n",
       "      <td>2025-04-05</td>\n",
       "      <td>2025</td>\n",
       "      <td>4</td>\n",
       "      <td>Saturday</td>\n",
       "    </tr>\n",
       "    <tr>\n",
       "      <th>2</th>\n",
       "      <td>3</td>\n",
       "      <td>1299</td>\n",
       "      <td>215</td>\n",
       "      <td>2025-06-04</td>\n",
       "      <td>2025</td>\n",
       "      <td>6</td>\n",
       "      <td>Wednesday</td>\n",
       "    </tr>\n",
       "    <tr>\n",
       "      <th>3</th>\n",
       "      <td>4</td>\n",
       "      <td>3078</td>\n",
       "      <td>160</td>\n",
       "      <td>2025-06-17</td>\n",
       "      <td>2025</td>\n",
       "      <td>6</td>\n",
       "      <td>Tuesday</td>\n",
       "    </tr>\n",
       "    <tr>\n",
       "      <th>4</th>\n",
       "      <td>5</td>\n",
       "      <td>3606</td>\n",
       "      <td>264</td>\n",
       "      <td>2025-05-08</td>\n",
       "      <td>2025</td>\n",
       "      <td>5</td>\n",
       "      <td>Thursday</td>\n",
       "    </tr>\n",
       "  </tbody>\n",
       "</table>\n",
       "</div>"
      ],
      "text/plain": [
       "   id_sesion  id_jugador  id_juego      fecha  anio  mes        dia\n",
       "0          1        4234       221 2025-04-18  2025    4     Friday\n",
       "1          2        1769       206 2025-04-05  2025    4   Saturday\n",
       "2          3        1299       215 2025-06-04  2025    6  Wednesday\n",
       "3          4        3078       160 2025-06-17  2025    6    Tuesday\n",
       "4          5        3606       264 2025-05-08  2025    5   Thursday"
      ]
     },
     "execution_count": 211,
     "metadata": {},
     "output_type": "execute_result"
    }
   ],
   "source": [
    "sesiones.head()"
   ]
  },
  {
   "cell_type": "code",
   "execution_count": 216,
   "id": "5ef25b4f",
   "metadata": {},
   "outputs": [
    {
     "name": "stdout",
     "output_type": "stream",
     "text": [
      "   mes  cantidad_sesiones\n",
      "0    3               2575\n",
      "1    4              10098\n",
      "2    5              10336\n",
      "3    6               6990\n",
      "         dia  cantidad_sesiones\n",
      "0     Monday               4247\n",
      "1    Tuesday               4332\n",
      "2  Wednesday               4374\n",
      "3   Thursday               4405\n",
      "4     Friday               4382\n",
      "5   Saturday               4259\n",
      "6     Sunday               4000\n"
     ]
    },
    {
     "name": "stderr",
     "output_type": "stream",
     "text": [
      "C:\\Users\\yamal\\AppData\\Local\\Temp\\ipykernel_32396\\2927652460.py:5: FutureWarning: The default of observed=False is deprecated and will be changed to True in a future version of pandas. Pass observed=False to retain current behavior or observed=True to adopt the future default and silence this warning.\n",
      "  dias_jugados = sesiones.groupby('dia').size().reset_index(name='cantidad_sesiones')\n"
     ]
    }
   ],
   "source": [
    "# Contar sesiones por mes\n",
    "meses_jugados = sesiones.groupby('mes').size().reset_index(name='cantidad_sesiones')\n",
    "\n",
    "# sesiones por dia\n",
    "dias_jugados = sesiones.groupby('dia').size().reset_index(name='cantidad_sesiones')\n",
    "dias_jugados = dias_jugados.sort_values('dia')\n",
    "\n",
    "print(meses_jugados)\n",
    "print(dias_jugados)\n"
   ]
  },
  {
   "cell_type": "code",
   "execution_count": 214,
   "id": "fbb7e156",
   "metadata": {},
   "outputs": [
    {
     "data": {
      "text/plain": [
       "array([4, 6, 5, 3], dtype=int32)"
      ]
     },
     "execution_count": 214,
     "metadata": {},
     "output_type": "execute_result"
    }
   ],
   "source": [
    "sesiones[\"mes\"].unique()"
   ]
  },
  {
   "cell_type": "code",
   "execution_count": null,
   "id": "ed6819e3",
   "metadata": {},
   "outputs": [
    {
     "data": {
      "image/png": "[encoded data removed]",
      "text/plain": [
       "<Figure size 800x400 with 1 Axes>"
      ]
     },
     "metadata": {},
     "output_type": "display_data"
    },
    {
     "data": {
      "image/png": "[encoded data removed]",
      "text/plain": [
       "<Figure size 800x400 with 1 Axes>"
      ]
     },
     "metadata": {},
     "output_type": "display_data"
    }
   ],
   "source": [
    "#por mes\n",
    "plt.figure(figsize=(8,4))\n",
    "plt.bar(meses_jugados['mes'], meses_jugados['cantidad_sesiones'], color='skyblue')\n",
    "plt.xlabel('Mes')\n",
    "plt.ylabel('Cantidad de sesiones')\n",
    "plt.title('Sesiones por mes')\n",
    "plt.xticks(meses_jugados['mes'])\n",
    "plt.show()\n",
    "\n",
    "# por día de la semana\n",
    "plt.figure(figsize=(8,4))\n",
    "plt.bar(dias_jugados['dia'], dias_jugados['cantidad_sesiones'], color='salmon')\n",
    "plt.xlabel('Día de la semana')\n",
    "plt.ylabel('Cantidad de sesiones')\n",
    "plt.title('Sesiones por día de la semana')\n",
    "plt.show()\n"
   ]
  },
  {
   "cell_type": "code",
   "execution_count": 219,
   "id": "41f41815",
   "metadata": {},
   "outputs": [],
   "source": [
    "sesiones_con_pais = sesiones.merge(jugadores[['id_jugador', 'pais']], on='id_jugador', how='left')\n"
   ]
  },
  {
   "cell_type": "code",
   "execution_count": 220,
   "id": "e500197e",
   "metadata": {},
   "outputs": [
    {
     "name": "stdout",
     "output_type": "stream",
     "text": [
      "                  pais  cantidad_sesiones\n",
      "23              Brasil                380\n",
      "72   Guinea Ecuatorial                227\n",
      "163          Sri Lanka                221\n",
      "117             México                206\n",
      "165              Sudán                198\n",
      "..                 ...                ...\n",
      "77               India                 85\n",
      "162            Somalia                 83\n",
      "161           Singapur                 83\n",
      "84        Islas Salom�                 69\n",
      "119              Nauru                 64\n",
      "\n",
      "[191 rows x 2 columns]\n"
     ]
    }
   ],
   "source": [
    "sesiones_por_pais = sesiones_con_pais.groupby('pais').size().reset_index(name='cantidad_sesiones')\n",
    "sesiones_por_pais = sesiones_por_pais.sort_values('cantidad_sesiones', ascending=False)\n",
    "print(sesiones_por_pais)\n"
   ]
  },
  {
   "cell_type": "code",
   "execution_count": 222,
   "id": "8f2adf29",
   "metadata": {},
   "outputs": [
    {
     "data": {
      "image/png": "[encoded data removed]",
      "text/plain": [
       "<Figure size 1000x600 with 1 Axes>"
      ]
     },
     "metadata": {},
     "output_type": "display_data"
    }
   ],
   "source": [
    "top_5_paises = sesiones_por_pais.nlargest(5, 'cantidad_sesiones')\n",
    "\n",
    "bottom_5_paises = sesiones_por_pais.nsmallest(5, 'cantidad_sesiones')\n",
    "\n",
    "paises_a_graficar = pd.concat([top_5_paises, bottom_5_paises])\n",
    "\n",
    "plt.figure(figsize=(10,6))\n",
    "plt.bar(paises_a_graficar['pais'], paises_a_graficar['cantidad_sesiones'], color=['green']*5 + ['red']*5)\n",
    "plt.xlabel('País')\n",
    "plt.ylabel('Cantidad de sesiones')\n",
    "plt.title('Top 5 países con más sesiones y 5 con menos sesiones')\n",
    "plt.xticks(rotation=45)\n",
    "plt.show()\n"
   ]
  },
  {
   "cell_type": "code",
   "execution_count": 225,
   "id": "c97ee8ea",
   "metadata": {},
   "outputs": [
    {
     "data": {
      "image/png": "[encoded data removed]",
      "text/plain": [
       "<Figure size 1200x800 with 1 Axes>"
      ]
     },
     "metadata": {},
     "output_type": "display_data"
    }
   ],
   "source": [
    "\n",
    "sesiones_con_pais = sesiones.merge(\n",
    "    jugadores[['id_jugador', 'pais']],\n",
    "    on='id_jugador',\n",
    "    how='left'\n",
    ")\n",
    "\n",
    "sesiones_pais_mes = sesiones_con_pais.groupby(['pais', 'mes']).size().reset_index(name='cantidad_sesiones')\n",
    "\n",
    "\n",
    "top_paises = sesiones_con_pais['pais'].value_counts().nlargest(5).index.tolist()\n",
    "\n",
    "plt.figure(figsize=(12,8))\n",
    "\n",
    "for pais in top_paises:\n",
    "    datos_pais = sesiones_pais_mes[sesiones_pais_mes['pais'] == pais]\n",
    "    plt.plot(datos_pais['mes'], datos_pais['cantidad_sesiones'], marker='o', label=pais)\n",
    "\n",
    "plt.xlabel('Mes')\n",
    "plt.ylabel('Cantidad de sesiones')\n",
    "plt.title('Sesiones por mes para los 5 países con más sesiones')\n",
    "plt.xticks([3, 4, 5, 6], [\"marzo\", \"abril\", \"mayo\", \"junio\"])\n",
    "plt.legend()\n",
    "plt.show()\n"
   ]
  },
  {
   "cell_type": "code",
   "execution_count": null,
   "id": "f85029a7",
   "metadata": {},
   "outputs": [],
   "source": []
  }
 ],
 "metadata": {
  "kernelspec": {
   "display_name": "env",
   "language": "python",
   "name": "python3"
  },
  "language_info": {
   "codemirror_mode": {
    "name": "ipython",
    "version": 3
   },
   "file_extension": ".py",
   "mimetype": "text/x-python",
   "name": "python",
   "nbconvert_exporter": "python",
   "pygments_lexer": "ipython3",
   "version": "3.10.6"
  }
 },
 "nbformat": 4,
 "nbformat_minor": 5
}
